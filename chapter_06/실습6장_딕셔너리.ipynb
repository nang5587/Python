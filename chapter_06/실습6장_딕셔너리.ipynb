{
 "cells": [
  {
   "cell_type": "markdown",
   "metadata": {},
   "source": [
    "파이썬의 **dictionary(딕셔너리)**는 매우 중요한 자료형으로, 데이터를 **“이름표를 붙여서 저장”*\n",
    "키(key)와 값(value)의 쌍(pair) 으로 데이터를 저장하는 자료형입니다.\n",
    "\n",
    "수학에서의 “맵(map)” 또는 “해시 테이블(hash table)”과 비슷한 구조예요.\n",
    "\n",
    "예: 이름을 키로 하고, 점수를 값으로 저장"
   ]
  },
  {
   "cell_type": "code",
   "execution_count": null,
   "metadata": {},
   "outputs": [
    {
     "name": "stdout",
     "output_type": "stream",
     "text": [
      "yellow\n",
      "{'name': 'John', 'age': 30, 'city': 'busan', 'color': 'yellow'}\n"
     ]
    }
   ],
   "source": [
    "# 파이썬 딕셔너리\n",
    "person = {\"name\": \"John\", \"age\": 30}\n",
    "person[\"city\"]=\"busan\" #키 값으로 추가\n",
    "person['color']='yellow'\n",
    "print(person['color']) #키 값으로 접근\n",
    "print(person)"
   ]
  },
  {
   "cell_type": "code",
   "execution_count": 4,
   "metadata": {},
   "outputs": [
    {
     "name": "stdout",
     "output_type": "stream",
     "text": [
      "{'id': 1, 'sname': 'hong', 'coding': 'java'}\n",
      "{'id': 1, 'sname': 'hong'}\n",
      "hong\n"
     ]
    }
   ],
   "source": [
    "student={}\n",
    "student['id']=1\n",
    "student['sname']='hong'\n",
    "student['coding']='java'\n",
    "print(student)\n",
    "del student['coding'] #키-값 쌍을 제거\n",
    "print(student)\n",
    "# print(student['name']) # traceback error 6.2.7 get() 값 접근하기 \n",
    "print(student.get('sname',\"없음\")) #get() 'name' 키가 없을 때 기본값으로 '없음'을 반환"
   ]
  },
  {
   "cell_type": "markdown",
   "metadata": {},
   "source": [
    ".keys()\t모든 키 조회\t        my_dict.keys()\n",
    ".values()\t모든 값 조회\t    my_dict.values()\n",
    ".items()\t(키, 값) 쌍 조회\tmy_dict.items() # 튜플을 반환, 많이 씀\n",
    ".get(key, 기본값)\t키가 없을 때 오류 대신 \"없음\" 반환\tmy_dict.get(\"gender\", \"없음\")\n",
    ".update()\t다른 딕셔너리와 합치기\tmy_dict.update(other_dict)"
   ]
  },
  {
   "cell_type": "code",
   "execution_count": null,
   "metadata": {},
   "outputs": [
    {
     "name": "stdout",
     "output_type": "stream",
     "text": [
      "{'id': 1, 'sname': 'hong', 'coding': 'java'}\n",
      "key = id, value = 1\n",
      "key = sname, value = hong\n",
      "key = coding, value = java\n",
      "key = id\n",
      "key = sname\n",
      "key = coding\n",
      "값 = 1\n",
      "값 = hong\n",
      "값 = java\n",
      "정렬::key = coding\n",
      "정렬::key = id\n",
      "정렬::key = sname\n",
      "정렬::value = 1\n",
      "정렬::value = java\n",
      "정렬::value = hong\n"
     ]
    }
   ],
   "source": [
    "# 6.3 dictionary 순회하기\n",
    "student={}\n",
    "student['id']=1\n",
    "student['sname']='hong'\n",
    "student['coding']='java'\n",
    "print(student)\n",
    "for k,v in student.items(): # 튜플 (키, 값) 반환\n",
    "    print(\"key = {}, value = {}\".format(k, v))\n",
    "\n",
    "for k in student.keys():\n",
    "    print(\"key = {}\".format(k))\n",
    "    \n",
    "for k in student.values():\n",
    "    print(\"값 = {}\".format(k))\n",
    "    \n",
    "for k in sorted(student.keys()):\n",
    "    print(\"정렬::key = {}\".format(k))  \n",
    "    \n",
    "student['skill']='java'\n",
    "for v in set(student.values()): # 중복 제거\n",
    "    print(\"정렬::value = {}\".format(v))  "
   ]
  },
  {
   "cell_type": "markdown",
   "metadata": {},
   "source": [
    "딕셔너리들의 리스트 "
   ]
  },
  {
   "cell_type": "code",
   "execution_count": null,
   "metadata": {},
   "outputs": [
    {
     "name": "stdout",
     "output_type": "stream",
     "text": [
      "학생 = {'id': 1, 'sname': 'hong', 'coding': 'java'}\n",
      "학생 = {'id': 2, 'sname': '김', 'coding': 'javascript'}\n",
      "학생 = {'id': 3, 'sname': 'hong', 'coding': 'java'}\n",
      "[{'id': 1, 'sname': 'hong', 'coding': 'java'}, {'id': 2, 'sname': '김', 'coding': 'javascript'}, {'id': 3, 'sname': 'hong', 'coding': 'java'}, {'id': 4, 'sname': 'lee', 'coding': 'python'}, {'id': 5, 'sname': 'lee', 'coding': 'python'}, {'id': 6, 'sname': 'lee', 'coding': 'python'}, {'id': 7, 'sname': 'lee', 'coding': 'python'}]\n",
      "학생 = {'id': 1, 'sname': 'hong', 'coding': 'python'}\n",
      "학생 = {'id': 2, 'sname': '김', 'coding': 'javascript'}\n",
      "학생 = {'id': 3, 'sname': 'hong', 'coding': 'python'}\n"
     ]
    }
   ],
   "source": [
    "# 6.4.1 dictionary list\n",
    "student0 = {'id':1, 'sname':'hong', 'coding':'java'}\n",
    "student1 = {'id':2, 'sname':'김', 'coding':'javascript'}\n",
    "student2 = {'id':3, 'sname':'hong', 'coding':'java'}\n",
    "students = [student0,student1,student2] # 리스트는 복수형으로 표현\n",
    "for student in students:\n",
    "    print(f\"학생 = {student}\")\n",
    "    \n",
    "for id in range(4,8):\n",
    "    new_student = {'id':id, 'sname': 'lee', 'coding':'python'}\n",
    "    students.append(new_student)\n",
    "    \n",
    "print(students)\n",
    "\n",
    "for student in students[:3]:\n",
    "    if student['sname']=='hong':\n",
    "        student['coding'] = 'python'\n",
    "    print(\"학생 = {}\".format(student))"
   ]
  },
  {
   "cell_type": "markdown",
   "metadata": {},
   "source": [
    "리스트를 포함하는 딕셔너리들의 리스트 "
   ]
  },
  {
   "cell_type": "code",
   "execution_count": null,
   "metadata": {},
   "outputs": [
    {
     "name": "stdout",
     "output_type": "stream",
     "text": [
      "학생 = {'id': 1, 'sname': 'hong', 'coding': ['java', 'c', 'python']}\n",
      "학생 = {'id': 2, 'sname': '김', 'coding': ['C++', 'c']}\n",
      "학생 = {'id': 3, 'sname': 'hong', 'coding': ['go', 'C++', 'javascript']}\n",
      "[{'id': 1, 'sname': 'hong', 'coding': ['java', 'c', 'python']}, {'id': 2, 'sname': '김', 'coding': ['C++', 'c']}, {'id': 3, 'sname': 'hong', 'coding': ['go', 'C++', 'javascript']}, {'id': 4, 'sname': 'lee', 'coding': ['java', 'javascriptc', 'typescript']}, {'id': 5, 'sname': 'lee', 'coding': ['java', 'javascriptc', 'typescript']}, {'id': 6, 'sname': 'lee', 'coding': ['java', 'javascriptc', 'typescript']}, {'id': 7, 'sname': 'lee', 'coding': ['java', 'javascriptc', 'typescript']}]\n",
      "코딩 언어 = java\n",
      "코딩 언어 = c\n",
      "코딩 언어 = python\n",
      "코딩 언어 = C++\n",
      "코딩 언어 = c\n",
      "코딩 언어 = go\n",
      "코딩 언어 = C++\n",
      "코딩 언어 = javascript\n",
      "코딩 언어 = java\n",
      "코딩 언어 = javascriptc\n",
      "코딩 언어 = typescript\n",
      "코딩 언어 = java\n",
      "코딩 언어 = javascriptc\n",
      "코딩 언어 = typescript\n",
      "코딩 언어 = java\n",
      "코딩 언어 = javascriptc\n",
      "코딩 언어 = typescript\n",
      "코딩 언어 = java\n",
      "코딩 언어 = javascriptc\n",
      "코딩 언어 = typescript\n"
     ]
    }
   ],
   "source": [
    "#6.4.2 list를 값으로 갖는 dictionary\n",
    "student0 = {'id':1, 'sname':'hong', 'coding':['java','c','python']}\n",
    "student1 = {'id':2, 'sname':'김', 'coding':['C++','c']}\n",
    "student2 = {'id':3, 'sname':'hong', 'coding':['go','C++','javascript']}\n",
    "students = [student0,student1,student2]\n",
    "for student in students:\n",
    "    print(f\"학생 = {student}\")\n",
    "    \n",
    "for id in range(4,8):\n",
    "    new_student = {'id':id, 'sname': 'lee', 'coding':['java','javascriptc','typescript']}\n",
    "    students.append(new_student)\n",
    "    \n",
    "print(students)\n",
    "\n",
    "for student in students:\n",
    "    for key,values in student.items():# tuple 값 사용 \n",
    "        if key=='coding':\n",
    "            for each in values: #dirctionary 안의 list를 순회\n",
    "                print(\"코딩 언어 = {}\".format(each))\n"
   ]
  },
  {
   "cell_type": "markdown",
   "metadata": {},
   "source": [
    "Nested dictionary(중첩 딕셔너리)"
   ]
  },
  {
   "cell_type": "code",
   "execution_count": 2,
   "metadata": {},
   "outputs": [
    {
     "name": "stdout",
     "output_type": "stream",
     "text": [
      "user1의 이름: John, 도시: New York\n",
      "\n",
      "key = name, value = John\n",
      "key = age, value = 30\n",
      "key = city, value = New York\n",
      "\n",
      "user2의 이름: Alice, 도시: Los Angeles\n",
      "\n",
      "key = name, value = Alice\n",
      "key = age, value = 25\n",
      "key = city, value = Los Angeles\n",
      "\n",
      "user3의 이름: Bob, 도시: Chicago\n",
      "\n",
      "key = name, value = Bob\n",
      "key = age, value = 35\n",
      "key = city, value = Chicago\n",
      "\n"
     ]
    }
   ],
   "source": [
    "#6.4.3 dictionary 속의 dictionary\n",
    "# 중첩 딕셔너리 예제: 여러 사용자의 정보\n",
    "users = {\n",
    "    \"user1\": {\n",
    "        \"name\": \"John\",\n",
    "        \"age\": 30,\n",
    "        \"city\": \"New York\"\n",
    "    },\n",
    "    \"user2\": {\n",
    "        \"name\": \"Alice\",\n",
    "        \"age\": 25,\n",
    "        \"city\": \"Los Angeles\"\n",
    "    },\n",
    "    \"user3\": {\n",
    "        \"name\": \"Bob\",\n",
    "        \"age\": 35,\n",
    "        \"city\": \"Chicago\"\n",
    "    }\n",
    "}\n",
    "\n",
    "# 특정 사용자 정보 접근\n",
    "# print(\"user1의 정보:\", users[\"user1\"])\n",
    "# print(\"user2의 이름:\", users[\"user2\"][\"name\"])\n",
    "\n",
    "# 모든 사용자의 이름과 도시 출력\n",
    "for user_id, user_info in users.items():\n",
    "    print(f\"{user_id}의 이름: {user_info['name']}, 도시: {user_info['city']}\\n\")\n",
    "    for k, v in user_info.items():\n",
    "        print(f\"key = {k}, value = {v}\")\n",
    "    print(\"\")"
   ]
  },
  {
   "cell_type": "code",
   "execution_count": 10,
   "metadata": {},
   "outputs": [
    {
     "name": "stdout",
     "output_type": "stream",
     "text": [
      "{0: 'height', 1: 'weight', 2: 'age'}\n"
     ]
    }
   ],
   "source": [
    "#1리스트를 인덱스와 함께 딕셔너리로 변환 (enumerate 사용)\n",
    "features = [\"height\", \"weight\", \"age\"]\n",
    "feature_dict = {i: feature for i, feature in enumerate(features)}\n",
    "\n",
    "# 결과: {0: 'height', 1: 'weight', 2: 'age'}\n",
    "print(feature_dict)\n"
   ]
  },
  {
   "cell_type": "code",
   "execution_count": 11,
   "metadata": {},
   "outputs": [
    {
     "name": "stdout",
     "output_type": "stream",
     "text": [
      "{'Alice': 85, 'Charlie': 95}\n"
     ]
    }
   ],
   "source": [
    "#2 값 변환과 필터링 (조건문 포함)\n",
    "scores = {\"Alice\": 85, \"Bob\": 58, \"Charlie\": 95}\n",
    "passed = {name: score for name, score in scores.items() if score >= 60}\n",
    "\n",
    "# 결과: {'Alice': 85, 'Charlie': 95}\n",
    "print(passed)"
   ]
  },
  {
   "cell_type": "code",
   "execution_count": 4,
   "metadata": {},
   "outputs": [
    {
     "name": "stdout",
     "output_type": "stream",
     "text": [
      "{'a': 1, 'b': 2, 'c': 3}\n"
     ]
    }
   ],
   "source": [
    "#3두 리스트를 키-값으로 매핑\n",
    "keys = [\"a\", \"b\", \"c\"]\n",
    "values = [1, 2, 3]\n",
    "mapping = {k: v for k, v in zip(keys, values)}\n",
    "\n",
    "# 결과: {'a': 1, 'b': 2, 'c': 3}\n",
    "print(mapping)"
   ]
  },
  {
   "cell_type": "code",
   "execution_count": null,
   "metadata": {},
   "outputs": [
    {
     "name": "stdout",
     "output_type": "stream",
     "text": [
      "{'e': 1, 'l': 2, 'o': 1, 'h': 1}\n"
     ]
    }
   ],
   "source": [
    "#4문자열 등장 횟수 세기 (빈도 분석)\n",
    "text = \"hello\"\n",
    "char_count = {char: text.count(char) for char in set(text)} #count() string에 대한 함수\n",
    "\n",
    "# 결과: {'h': 1, 'e': 1, 'l': 2, 'o': 1}\n",
    "print(char_count)"
   ]
  },
  {
   "cell_type": "code",
   "execution_count": 14,
   "metadata": {},
   "outputs": [
    {
     "name": "stdout",
     "output_type": "stream",
     "text": [
      "{'a': 0.1, 'b': 0.3, 'c': 0.6}\n"
     ]
    }
   ],
   "source": [
    "#5딕셔너리 값 스케일링 or 정규화\n",
    "data = {\"a\": 100, \"b\": 300, \"c\": 600}\n",
    "total = sum(data.values())\n",
    "normalized = {k: v / total for k, v in data.items()}\n",
    "\n",
    "# 결과: {'a': 0.1, 'b': 0.3, 'c': 0.6}\n",
    "print(normalized)"
   ]
  }
 ],
 "metadata": {
  "kernelspec": {
   "display_name": "Python 3",
   "language": "python",
   "name": "python3"
  },
  "language_info": {
   "codemirror_mode": {
    "name": "ipython",
    "version": 3
   },
   "file_extension": ".py",
   "mimetype": "text/x-python",
   "name": "python",
   "nbconvert_exporter": "python",
   "pygments_lexer": "ipython3",
   "version": "3.9.13"
  }
 },
 "nbformat": 4,
 "nbformat_minor": 2
}
