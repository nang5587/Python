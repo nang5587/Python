{
 "cells": [
  {
   "cell_type": "code",
   "execution_count": 7,
   "id": "8cb149ea",
   "metadata": {},
   "outputs": [
    {
     "name": "stdout",
     "output_type": "stream",
     "text": [
      "#1 : [89, 76, 90, 66, 72]\n",
      "\n",
      "#2 : [55, 76, 90, 72]\n",
      "\n",
      "#3 : ['불합격', '합격', '합격', '불합격', '합격', '불합격', '합격']\n",
      "\n"
     ]
    }
   ],
   "source": [
    "#1. 아래의 점수 리스트에서 60점 이상만 추출하는 코드를 리스트 comprehension 작성.\n",
    "scores = [55, 89, 76, 45, 90, 66, 72]\n",
    "list = [score for score in scores if score >= 60]\n",
    "print(f\"#1 : {list}\\n\")\n",
    "\n",
    "#2. 짝수 인덱스에 해당하는 점수만 출력 (슬라이싱 사용).\n",
    "list2 = [score for score in scores[::2]]\n",
    "print(f\"#2 : {list2}\\n\")\n",
    "\n",
    "#3. 점수 리스트에서 **70점 이상이면 '합격', 아니면 '불합격'**으로 변환된 결과 리스트.\n",
    "list3 = ['합격' if score >= 70 else '불합격' for score in scores]\n",
    "print(f\"#3 : {list3}\\n\")"
   ]
  },
  {
   "cell_type": "code",
   "execution_count": 9,
   "id": "f633ac0c",
   "metadata": {},
   "outputs": [
    {
     "name": "stdout",
     "output_type": "stream",
     "text": [
      "#1 : ['홍길동', '유관순']\n",
      "\n",
      "#2 : 재시험 대상자 => ['김유신', '강감찬']\n",
      "\n"
     ]
    }
   ],
   "source": [
    "students = [(\"홍길동\", 85), (\"김유신\", 58), (\"이순신\", 76), (\"강감찬\", 45), (\"유관순\", 92)]\n",
    "#1. (이름, 점수) 튜플이 있는 리스트에서 80점 이상인 학생 이름만 출력.\n",
    "list = [name for name, score in students if score >=80]\n",
    "print(f\"#1 : {list}\\n\")\n",
    "\n",
    "#2. **점수가 60점 미만인 학생 이름만 '재시험 대상자'**로 출력하는 리스트.\n",
    "list2 = [name for name, score in students if score < 60]\n",
    "print(f\"#2 : 재시험 대상자 => {list2}\\n\")"
   ]
  },
  {
   "cell_type": "code",
   "execution_count": 15,
   "id": "21e1e717",
   "metadata": {},
   "outputs": [
    {
     "name": "stdout",
     "output_type": "stream",
     "text": [
      "#1 : ['홍길동', '이순신', '유관순']\n",
      "\n",
      "#2 : ('유관순', 92)\n",
      "\n"
     ]
    }
   ],
   "source": [
    "score_dict = {\n",
    "    \"홍길동\": 85,\n",
    "    \"김유신\": 58,\n",
    "    \"이순신\": 76,\n",
    "    \"강감찬\": 45,\n",
    "    \"유관순\": 92\n",
    "}\n",
    "#1. 아래 딕셔너리에서 점수가 70점 이상인 학생 이름 리스트.\n",
    "list = [name for name, score in score_dict.items() if score >= 70]\n",
    "print(f\"#1 : {list}\\n\")\n",
    "\n",
    "#2. 점수가 가장 높은 학생의 이름과 점수를 출력. (힌트: max() 사용)\n",
    "max_score = max(score_dict.items(), key=lambda x: x[1])\n",
    "print(f\"#2 : {max_score}\\n\")"
   ]
  },
  {
   "cell_type": "code",
   "execution_count": 10,
   "id": "99cf8508",
   "metadata": {},
   "outputs": [
    {
     "name": "stdout",
     "output_type": "stream",
     "text": [
      "#1 : [(1, '홍길동'), (2, '김유신'), (3, '이순신'), (4, '강감찬'), (5, '유관순')]\n",
      "\n",
      "#2 : [(1, '홍길동'), (3, '이순신'), (5, '유관순')]\n",
      "\n"
     ]
    }
   ],
   "source": [
    "#1. 번호와 이름을 같이 출력하는 문자열 리스트. (예: \"1. 홍길동\")\n",
    "names = [\"홍길동\", \"김유신\", \"이순신\", \"강감찬\", \"유관순\"]\n",
    "list = [name for name in enumerate(names, 1)]\n",
    "print(f\"#1 : {list}\\n\")\n",
    "\n",
    "# 2. 짝수 번호(1번, 3번...) 학생만 필터링해서 출력.\n",
    "list2 = [name for name in list[::2]]\n",
    "print(f\"#2 : {list2}\\n\")"
   ]
  },
  {
   "cell_type": "code",
   "execution_count": 15,
   "id": "ed353e8f",
   "metadata": {},
   "outputs": [
    {
     "name": "stdout",
     "output_type": "stream",
     "text": [
      "#1 : {'홍길동': 85, '김유신': 58, '이순신': 76, '강감찬': 45, '유관순': 92}\n",
      "#2 : {'홍길동': '합격', '유관순': '합격'}\n"
     ]
    }
   ],
   "source": [
    "# 1. 이름과 점수를 묶어서 \"이름: 점수점\" 형식의 리스트.\n",
    "names = [\"홍길동\", \"김유신\", \"이순신\", \"강감찬\", \"유관순\"]\n",
    "scores = [85, 58, 76, 45, 92]\n",
    "list = {k: v for k, v in zip(names, scores)}\n",
    "print(f\"#1 : {list}\")\n",
    "\n",
    "#2. 점수가 80점 이상인 경우에만 \"이름: 합격\" 문자열 리스트.\n",
    "list2 = {name: \"합격\" for name, score in list.items() if score >= 80}\n",
    "print(f\"#2 : {list2}\")"
   ]
  },
  {
   "cell_type": "code",
   "execution_count": 50,
   "id": "d1d172c6",
   "metadata": {},
   "outputs": [
    {
     "name": "stdout",
     "output_type": "stream",
     "text": [
      "#1 : {(1, '홍길동'): '합격', (2, '이순신'): '불합격', (3, '유관순'): '합격'}\n"
     ]
    }
   ],
   "source": [
    "# - zip(), enumerate(), 조건, 슬라이싱을 모두 활용해서 **홀수 번호 학생 중 점수가 80점 이상이면 '합격' 아니면 '불합격'**으로 출력하는 문자열 리스트.\n",
    "names = [\"홍길동\", \"김유신\", \"이순신\", \"강감찬\", \"유관순\"]\n",
    "scores = [85, 58, 76, 45, 92]\n",
    "# list = {k :\"합격\" if v >= 80 else \"불합격\" for k, v in zip(names[::2], scores[::2])}\n",
    "# list = {k :v for k, v in zip(names[::2], scores[::2])}\n",
    "# list = {i:name for i, name in enumerate(list, 1)}\n",
    "# list =  [item for item in list.items()]\n",
    "list = {k :\"합격\" if v >= 80 else \"불합격\" for k, v in zip([item for item in {i:name for i, name in enumerate({k :v for k, v in zip(names[::2], scores[::2])}, 1)}.items()], scores[::2])}\n",
    "print(f\"#1 : {list}\")"
   ]
  }
 ],
 "metadata": {
  "kernelspec": {
   "display_name": "Python 3",
   "language": "python",
   "name": "python3"
  },
  "language_info": {
   "codemirror_mode": {
    "name": "ipython",
    "version": 3
   },
   "file_extension": ".py",
   "mimetype": "text/x-python",
   "name": "python",
   "nbconvert_exporter": "python",
   "pygments_lexer": "ipython3",
   "version": "3.9.13"
  }
 },
 "nbformat": 4,
 "nbformat_minor": 5
}
