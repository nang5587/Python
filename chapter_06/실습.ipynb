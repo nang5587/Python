{
 "cells": [
  {
   "cell_type": "code",
   "execution_count": 7,
   "id": "8cb149ea",
   "metadata": {},
   "outputs": [
    {
     "name": "stdout",
     "output_type": "stream",
     "text": [
      "#1 : [89, 76, 90, 66, 72]\n",
      "\n",
      "#2 : [55, 76, 90, 72]\n",
      "\n",
      "#3 : ['불합격', '합격', '합격', '불합격', '합격', '불합격', '합격']\n",
      "\n"
     ]
    }
   ],
   "source": [
    "#1. 아래의 점수 리스트에서 60점 이상만 추출하는 코드를 리스트 comprehension 작성.\n",
    "scores = [55, 89, 76, 45, 90, 66, 72]\n",
    "list = [score for score in scores if score >= 60]\n",
    "print(f\"#1 : {list}\\n\")\n",
    "\n",
    "#2. 짝수 인덱스에 해당하는 점수만 출력 (슬라이싱 사용).\n",
    "list2 = [score for score in scores[::2]]\n",
    "print(f\"#2 : {list2}\\n\")\n",
    "\n",
    "#3. 점수 리스트에서 **70점 이상이면 '합격', 아니면 '불합격'**으로 변환된 결과 리스트.\n",
    "list3 = ['합격' if score >= 70 else '불합격' for score in scores]\n",
    "print(f\"#3 : {list3}\\n\")"
   ]
  },
  {
   "cell_type": "code",
   "execution_count": 9,
   "id": "f633ac0c",
   "metadata": {},
   "outputs": [
    {
     "name": "stdout",
     "output_type": "stream",
     "text": [
      "#1 : ['홍길동', '유관순']\n",
      "\n",
      "#2 : 재시험 대상자 => ['김유신', '강감찬']\n",
      "\n"
     ]
    }
   ],
   "source": [
    "students = [(\"홍길동\", 85), (\"김유신\", 58), (\"이순신\", 76), (\"강감찬\", 45), (\"유관순\", 92)]\n",
    "#1. (이름, 점수) 튜플이 있는 리스트에서 80점 이상인 학생 이름만 출력.\n",
    "list = [name for name, score in students if score >=80]\n",
    "print(f\"#1 : {list}\\n\")\n",
    "\n",
    "#2. **점수가 60점 미만인 학생 이름만 '재시험 대상자'**로 출력하는 리스트.\n",
    "list2 = [name for name, score in students if score < 60]\n",
    "print(f\"#2 : 재시험 대상자 => {list2}\\n\")"
   ]
  },
  {
   "cell_type": "code",
   "execution_count": null,
   "id": "21e1e717",
   "metadata": {},
   "outputs": [],
   "source": [
    "score_dict = {\n",
    "    \"홍길동\": 85,\n",
    "    \"김유신\": 58,\n",
    "    \"이순신\": 76,\n",
    "    \"강감찬\": 45,\n",
    "    \"유관순\": 92\n",
    "}\n",
    "#1. 아래 딕셔너리에서 점수가 70점 이상인 학생 이름 리스트.\n"
   ]
  }
 ],
 "metadata": {
  "kernelspec": {
   "display_name": "Python 3",
   "language": "python",
   "name": "python3"
  },
  "language_info": {
   "codemirror_mode": {
    "name": "ipython",
    "version": 3
   },
   "file_extension": ".py",
   "mimetype": "text/x-python",
   "name": "python",
   "nbconvert_exporter": "python",
   "pygments_lexer": "ipython3",
   "version": "3.9.13"
  }
 },
 "nbformat": 4,
 "nbformat_minor": 5
}
