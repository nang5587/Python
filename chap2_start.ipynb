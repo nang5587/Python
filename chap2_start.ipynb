{
 "cells": [
  {
   "cell_type": "code",
   "execution_count": 2,
   "metadata": {},
   "outputs": [
    {
     "name": "stdout",
     "output_type": "stream",
     "text": [
      "hello world\n"
     ]
    }
   ],
   "source": [
    "msg = \"hello world\"\n",
    "print(msg)\n",
    "name = 'hong gildong l123 0O'\n",
    "first_name = 'gildong'\n",
    "last_name = 'hong'"
   ]
  },
  {
   "cell_type": "code",
   "execution_count": 5,
   "metadata": {},
   "outputs": [
    {
     "name": "stdout",
     "output_type": "stream",
     "text": [
      "Hello Nahyun\n",
      "hello nahyun\n"
     ]
    }
   ],
   "source": [
    "message = 'hello nahyun'\n",
    "print(message.title())\n",
    "print(message)\n",
    "lst = [1, 2, 3, 4, 5]\n"
   ]
  },
  {
   "cell_type": "code",
   "execution_count": null,
   "metadata": {},
   "outputs": [
    {
     "name": "stdout",
     "output_type": "stream",
     "text": [
      "Ada Lovelace\n"
     ]
    }
   ],
   "source": [
    "name = \"ada lovelace\"\n",
    "# title()은 문자열의 첫 글자를 대문자로 바꿔준다.\n",
    "print(name.title()) "
   ]
  },
  {
   "cell_type": "code",
   "execution_count": 9,
   "metadata": {},
   "outputs": [
    {
     "name": "stdout",
     "output_type": "stream",
     "text": [
      "Ada Lovelace\n",
      "이름: Ada Lovelace\n"
     ]
    }
   ],
   "source": [
    "first_name = \"ada\"\n",
    "last_name = \"lovelace\"\n",
    "full_name = f\"{first_name} {last_name}\"\n",
    "print(full_name.title())\n",
    "print(f\"이름: {full_name.title()}\")\n"
   ]
  },
  {
   "cell_type": "code",
   "execution_count": 14,
   "metadata": {},
   "outputs": [
    {
     "name": "stdout",
     "output_type": "stream",
     "text": [
      "다른 이름\n",
      "같은 이름\n"
     ]
    }
   ],
   "source": [
    "name1 = 'python'\n",
    "name2 = '    python'\n",
    "# 문자열도 == 연산자를 사용해서 비교할 수 있다.\n",
    "if(name1 == name2):\n",
    "    print(\"같은 이름\")\n",
    "else:\n",
    "    print(\"다른 이름\") #공백이 있기 때문에 같지 않다.\n",
    "\n",
    "\n",
    "if(name1 == name2.strip()):\n",
    "    print(\"같은 이름\") #strip()은 문자열의 앞뒤 공백을 제거한다.\n",
    "else:\n",
    "    print(\"다른 이름\")\n",
    "#lstrip()은 문자열의 왼쪽 공백을 제거한다.\n",
    "#rstrip()은 문자열의 오른쪽 공백을 제거한다."
   ]
  },
  {
   "cell_type": "code",
   "execution_count": null,
   "metadata": {},
   "outputs": [
    {
     "data": {
      "text/plain": [
       "'https://nostarch.com/pythoncrashcourse2e'"
      ]
     },
     "execution_count": 20,
     "metadata": {},
     "output_type": "execute_result"
    }
   ],
   "source": [
    "nostarch_url = 'https://nostarch.com/pythoncrashcourse2e'\n",
    "nostarch_url.removeprefix('https://') # 원래 변수를 변경하지 않고 새로운 문자열을 반환한다.\n",
    "nostarch_url # print 생략 시 마지막 표현식의 값이 출력된다.\n",
    "# print(simple_url) #nostarch.com/pythoncrashcourse2e"
   ]
  },
  {
   "cell_type": "code",
   "execution_count": null,
   "metadata": {},
   "outputs": [
    {
     "name": "stdout",
     "output_type": "stream",
     "text": [
      "one of python's strengths\n"
     ]
    }
   ],
   "source": [
    "message = \"one of python's strengths\" # 작은 따옴표를 문자열에 포함시키고 싶을 때는 큰 따옴표로 감싸면 된다. 또는 \\를 사용해도 된다.\n",
    "print(message)\n"
   ]
  },
  {
   "cell_type": "code",
   "execution_count": 31,
   "metadata": {},
   "outputs": [
    {
     "data": {
      "text/plain": [
       "0.30000000000000004"
      ]
     },
     "execution_count": 31,
     "metadata": {},
     "output_type": "execute_result"
    }
   ],
   "source": [
    "1+2\n",
    "0.1+0.2"
   ]
  },
  {
   "cell_type": "code",
   "execution_count": 32,
   "metadata": {},
   "outputs": [
    {
     "name": "stdout",
     "output_type": "stream",
     "text": [
      "20200\n"
     ]
    }
   ],
   "source": [
    "age = 20_200\n",
    "print(age) # 20200"
   ]
  },
  {
   "cell_type": "code",
   "execution_count": 33,
   "metadata": {},
   "outputs": [
    {
     "name": "stdout",
     "output_type": "stream",
     "text": [
      "0 0 0\n"
     ]
    }
   ],
   "source": [
    "x,y,z = 0,0,0\n",
    "print(x,y,z) # 0 0 0"
   ]
  },
  {
   "cell_type": "code",
   "execution_count": 34,
   "metadata": {},
   "outputs": [
    {
     "name": "stdout",
     "output_type": "stream",
     "text": [
      "The Zen of Python, by Tim Peters\n",
      "\n",
      "Beautiful is better than ugly.\n",
      "Explicit is better than implicit.\n",
      "Simple is better than complex.\n",
      "Complex is better than complicated.\n",
      "Flat is better than nested.\n",
      "Sparse is better than dense.\n",
      "Readability counts.\n",
      "Special cases aren't special enough to break the rules.\n",
      "Although practicality beats purity.\n",
      "Errors should never pass silently.\n",
      "Unless explicitly silenced.\n",
      "In the face of ambiguity, refuse the temptation to guess.\n",
      "There should be one-- and preferably only one --obvious way to do it.\n",
      "Although that way may not be obvious at first unless you're Dutch.\n",
      "Now is better than never.\n",
      "Although never is often better than *right* now.\n",
      "If the implementation is hard to explain, it's a bad idea.\n",
      "If the implementation is easy to explain, it may be a good idea.\n",
      "Namespaces are one honking great idea -- let's do more of those!\n"
     ]
    }
   ],
   "source": [
    "import this"
   ]
  },
  {
   "cell_type": "markdown",
   "metadata": {},
   "source": [
    "파이썬 2장부터 실습\n",
    "주피터 노트북으로 실행\n",
    "interactive mode로 실행"
   ]
  }
 ],
 "metadata": {
  "kernelspec": {
   "display_name": "Python 3",
   "language": "python",
   "name": "python3"
  },
  "language_info": {
   "codemirror_mode": {
    "name": "ipython",
    "version": 3
   },
   "file_extension": ".py",
   "mimetype": "text/x-python",
   "name": "python",
   "nbconvert_exporter": "python",
   "pygments_lexer": "ipython3",
   "version": "3.9.13"
  }
 },
 "nbformat": 4,
 "nbformat_minor": 2
}
