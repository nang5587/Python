{
 "cells": [
  {
   "cell_type": "code",
   "execution_count": null,
   "metadata": {},
   "outputs": [
    {
     "name": "stdout",
     "output_type": "stream",
     "text": [
      "[홍길동, 30, 개발부]\n",
      "[김철수, 27, 마케팅부]\n",
      "emp.name = 홍길동\n",
      "emp.age = 31\n"
     ]
    }
   ],
   "source": [
    "\n",
    "class Employee: ### 클래스 이름은 대문자로 \n",
    "    \"\"\"클래스 정의 \"\"\"\n",
    "    # 파이썬의 모든 메서드에는 self를 쓴다. (자바의 this)\n",
    "    def __init__(self, name, dept, age): # 자동 호출되는 생성자 역할\n",
    "        \"\"\"생성자: 직원의 이름(name), 부서(dept), 나이(age)를 초기화\"\"\"\n",
    "        self.name = name    # 문자열: 직원의 이름\n",
    "        self.dept = dept    # 문자열: 부서명\n",
    "        self.age = age      # 정수: 나이\n",
    "\n",
    "    def show(self): # 밖에서 이 함수 호출할 때 e.show() 이렇게 파라미터 없이 함\n",
    "        \"\"\"[이름, 나이, 부서] 형식으로 직원 정보를 출력하는 메서드\"\"\"\n",
    "        print(f\"[{self.name}, {self.age}, {self.dept}]\")\n",
    "\n",
    "# Employee 클래스의 객체 생성\n",
    "emp1 = Employee(\"홍길동\", \"개발부\", 30) # self에 자동 전달 > 생성되는 객체가 self에 전달됨 > __init__()을 자동 호출 > 생성된 객체를 반환\n",
    "emp2 = Employee(\"김철수\", \"마케팅부\", 27)\n",
    "\n",
    "# 직원 정보 출력\n",
    "emp1.show()  # 출력: [홍길동, 30, 개발부]\n",
    "emp2.show()  # 출력: [김철수, 27, 마케팅부]\n",
    "\n",
    "# 클래스 멤버는 기본적으로 public. \n",
    "print(f\"emp.name = {emp1.name}\") # public이다 \n",
    "emp1.age += 1\n",
    "print(f\"emp.age = {emp1.age}\")\n"
   ]
  },
  {
   "cell_type": "markdown",
   "metadata": {},
   "source": [
    "https://codermun-log.tistory.com/73\n",
    " # 변수 앞에 __를 붙혀 비공개 속성으로 만듬\n",
    "\n",
    "클래스의 protected, private 지원은 안된다???\n",
    "\n",
    "파이썬에는 접근 제한자를 엄격히 적용하지 않지만,\n",
    "\n",
    "관례(convention) 와 **이름 변경(name mangling)**을 통해 private처럼 동작하는 방법"
   ]
  },
  {
   "cell_type": "code",
   "execution_count": null,
   "metadata": {},
   "outputs": [
    {
     "name": "stdout",
     "output_type": "stream",
     "text": [
      "홍길동\n"
     ]
    }
   ],
   "source": [
    "# 멤버 이름 앞에 **밑줄 하나(_)**를 붙이면 protected처럼 취급 >권장하는 관례일 뿐이다 \n",
    "\n",
    "class Employee:\n",
    "    def __init__(self, name):\n",
    "        self._name = name  # protected 멤버\n",
    "\n",
    "emp = Employee(\"홍길동\")\n",
    "print(emp._name)  # 가능하지만, 사용을 권장하지 않음 > 보호용으로 공지하는 것임"
   ]
  },
  {
   "cell_type": "code",
   "execution_count": 7,
   "metadata": {},
   "outputs": [
    {
     "name": "stdout",
     "output_type": "stream",
     "text": [
      "홍길동\n"
     ]
    }
   ],
   "source": [
    "class Employee:\n",
    "    def __init__(self, name, age, coding):\n",
    "        self.__name = name  # private 멤버 > 멤버 이름 앞에 **밑줄 두 개(__)**를 붙이면 private처럼 동작\n",
    "        self.age = age\n",
    "        self.coding = coding\n",
    "\n",
    "emp = Employee(\"홍길동\", 20, 'java')\n",
    "emp.age += 1 # 클래스 멤버를 클래스 외부에서 변경 가능하나 비추 > 피해야 한다 :: 교재 235, 9.2.3 속성 값 수정하기 \n",
    "#print(emp.__name)  # 에러 발생 -> name mangle(난도질하다 망가트리다)으로 private 멤버처럼 접근 못하게 하는 것일 뿐이다 >>_classname__name으로 변경한다\n",
    "print(emp._Employee__name) #_Employee__name 이것이 name mangling이다 역설적으로 이를 통해 접근이 가능하다 "
   ]
  },
  {
   "cell_type": "markdown",
   "metadata": {},
   "source": [
    "함수에 객체를 전달시에 변경 가능한가?"
   ]
  },
  {
   "cell_type": "code",
   "execution_count": 8,
   "metadata": {},
   "outputs": [
    {
     "name": "stdout",
     "output_type": "stream",
     "text": [
      "Before change:\n",
      "[홍길동, 30, 개발부]\n",
      "After change:\n",
      "[박영희, 31, 인사부]\n"
     ]
    }
   ],
   "source": [
    "class Employee:\n",
    "    def __init__(self, name, dept, age):\n",
    "        self.name = name\n",
    "        self.dept = dept\n",
    "        self.age = age\n",
    "\n",
    "    def show(self):\n",
    "        \"\"\"[이름, 나이, 부서] 형식으로 직원 정보를 출력하는 메서드\"\"\"\n",
    "        print(f\"[{self.name}, {self.age}, {self.dept}]\")\n",
    "\n",
    "def change_employee(emp):\n",
    "    \"\"\"Employee 객체의 속성을 변경하는 함수\"\"\"\n",
    "    emp.name = \"박영희\"  # 이름 변경\n",
    "    emp.age += 1        # 나이 1살 증가\n",
    "    emp.dept = \"인사부\"  # 부서 변경\n",
    "\n",
    "# Employee 객체 생성\n",
    "emp1 = Employee(\"홍길동\", \"개발부\", 30)\n",
    "\n",
    "# 함수 호출 전 상태\n",
    "print(\"Before change:\")\n",
    "emp1.show()  # 출력: [홍길동, 30, 개발부]\n",
    "\n",
    "# Employee 객체를 함수의 인자로 전달\n",
    "change_employee(emp1)\n",
    "\n",
    "# 함수 호출 후 상태\n",
    "print(\"After change:\")\n",
    "emp1.show()  # 출력: [박영희, 31, 인사부]"
   ]
  },
  {
   "cell_type": "code",
   "execution_count": 9,
   "metadata": {},
   "outputs": [
    {
     "name": "stdout",
     "output_type": "stream",
     "text": [
      "Before change:\n",
      "[홍길동, 30, 개발부]\n",
      "After change:\n",
      "[홍길동, 31, 인사부]\n"
     ]
    }
   ],
   "source": [
    "class Employee:\n",
    "    def __init__(self, name, dept, age):\n",
    "        self.name = name\n",
    "        self.dept = dept\n",
    "        self.age = age\n",
    "\n",
    "    def show(self):\n",
    "        \"\"\"[이름, 나이, 부서] 형식으로 직원 정보를 출력하는 메서드\"\"\"\n",
    "        print(f\"[{self.name}, {self.age}, {self.dept}]\")\n",
    "    \n",
    "    def change_employee(self, new_dept, age_increment):\n",
    "        \"\"\"부서, 나이를 변경하는 메서드\"\"\"\n",
    "        self.dept = new_dept  # 부서 변경\n",
    "        self.age += age_increment  # 나이 증가\n",
    "\n",
    "# Employee 객체 생성\n",
    "emp1 = Employee(\"홍길동\", \"개발부\", 30)\n",
    "\n",
    "# 함수 호출 전 상태\n",
    "print(\"Before change:\")\n",
    "emp1.show()  # 출력: [홍길동, 30, 개발부]\n",
    "\n",
    "# Employee 객체의 속성을 클래스 내부 메서드를 사용해 변경\n",
    "emp1.change_employee(\"인사부\", 1)\n",
    "\n",
    "# 함수 호출 후 상태\n",
    "print(\"After change:\")\n",
    "emp1.show()  # 출력: [박영희, 31, 인사부]"
   ]
  },
  {
   "cell_type": "markdown",
   "metadata": {},
   "source": [
    "클래스 상속"
   ]
  },
  {
   "cell_type": "code",
   "execution_count": null,
   "metadata": {},
   "outputs": [
    {
     "name": "stdout",
     "output_type": "stream",
     "text": [
      "Person info:\n",
      "Name: 홍길동, Age: 40\n",
      "\n",
      "Employee info:\n",
      "Name: 김철수, Age: 30\n",
      "Dept: 개발부, Salary: 5000\n"
     ]
    }
   ],
   "source": [
    "# Person 클래스 정의\n",
    "class Person:\n",
    "    def __init__(self, name, age):\n",
    "        self.name = name  # 이름\n",
    "        self.age = age    # 나이\n",
    "    \n",
    "    def show(self):\n",
    "        \"\"\"Person 클래스의 정보를 출력\"\"\"\n",
    "        print(f\"Name: {self.name}, Age: {self.age}\")\n",
    "\n",
    "# Employee 클래스는 Person 클래스를 상속\n",
    "class Employee(Person):\n",
    "    def __init__(self, name, age, dept, salary):\n",
    "        super().__init__(name, age)  # 부모 클래스(Person)의 생성자 호출\n",
    "        self.dept = dept             # 부서\n",
    "        self.salary = salary         # 급여\n",
    "    \n",
    "    def show(self): #메소드 오버라이드\n",
    "        \"\"\"Employee 클래스의 정보를 출력 (Person 클래스의 정보 포함)\"\"\"\n",
    "        #print(f\"Name: {self.name}, Age: {self.age}, Dept: {self.dept}, Salary: {self.salary}\")\n",
    "        ## Override\n",
    "        super().show()  # 부모 클래스의 show() 호출\n",
    "        print(f\"Dept: {self.dept}, Salary: {self.salary}\")\n",
    "\n",
    "# Person 객체 생성\n",
    "person1 = Person(\"홍길동\", 40)\n",
    "print(\"Person info:\")\n",
    "person1.show() \n",
    "\n",
    "# Employee 객체 생성\n",
    "employee1 = Employee(\"김철수\", 30, \"개발부\", 5000)\n",
    "print(\"\\nEmployee info:\")\n",
    "employee1.show() "
   ]
  },
  {
   "cell_type": "markdown",
   "metadata": {},
   "source": [
    "클래스 작성 실습::\n",
    "Vehicle: 기본 클래스, 색상, 중량, 가격을 속성으로 가짐.\n",
    "\n",
    "Car: Vehicle을 상속하며, 엔진과 탑승자 수를 추가로 가짐.\n",
    "\n",
    "Truck: Vehicle을 상속하며, 바퀴 수와 중량을 추가로 가짐."
   ]
  },
  {
   "cell_type": "markdown",
   "metadata": {},
   "source": [
    "###클래스 작성 연습 "
   ]
  },
  {
   "cell_type": "code",
   "execution_count": null,
   "metadata": {},
   "outputs": [],
   "source": [
    "# Vehicle 클래스 정의\n",
    "class Vehicle:\n",
    "\n",
    "\n",
    "# Car 클래스 (Vehicle의 서브클래스)\n",
    "class Car(Vehicle):\n",
    "\n",
    "\n",
    "# Truck 클래스 (Vehicle의 서브클래스)\n",
    "class Truck(Vehicle):\n",
    "\n",
    "\n",
    "# Car 객체 5개 생성\n",
    "car_list = [\n",
    "    Car(\"Red\", 1500, 20000, \"V6\", 4),\n",
    "    Car(\"Blue\", 1400, 25000, \"V8\", 5),\n",
    "    Car(\"Black\", 1600, 30000, \"Electric\", 4),\n",
    "    Car(\"White\", 1200, 18000, \"Hybrid\", 4),\n",
    "    Car(\"Green\", 1300, 22000, \"V6\", 5)\n",
    "]\n",
    "\n",
    "# Truck 객체 5개 생성\n",
    "truck_list = [\n",
    "    Truck(\"Yellow\", 3000, 40000, 8, 10000),\n",
    "    Truck(\"Blue\", 3200, 45000, 10, 12000),\n",
    "    Truck(\"White\", 2800, 35000, 6, 8000),\n",
    "    Truck(\"Black\", 3500, 50000, 12, 15000),\n",
    "    Truck(\"Red\", 3400, 48000, 10, 14000)\n",
    "]\n",
    "\n",
    "# 생성된 객체들 출력\n",
    "print(\"Cars:\")\n",
    "\n",
    "\n",
    "print(\"\\nTrucks:\")\n"
   ]
  },
  {
   "cell_type": "markdown",
   "metadata": {},
   "source": [
    "Override 실습"
   ]
  },
  {
   "cell_type": "code",
   "execution_count": 17,
   "metadata": {},
   "outputs": [
    {
     "name": "stdout",
     "output_type": "stream",
     "text": [
      "Animal speaks\n",
      "Dog barks\n",
      "Animal speaks\n",
      "Cat meows\n"
     ]
    }
   ],
   "source": [
    "class Animal:\n",
    "    def speak(self):\n",
    "        print(\"Animal speaks\")\n",
    "\n",
    "class Dog(Animal):\n",
    "    def speak(self):  # 메서드 오버라이딩\n",
    "        print(\"Dog barks\")\n",
    "\n",
    "class Cat(Animal):\n",
    "    def show(self):\n",
    "        print(\" good\")\n",
    "    def speak(self): ##override\n",
    "        super().speak() # super.speak() > 자바식 표현 \n",
    "        print(\"Cat meows\")\n",
    "\n",
    "# 객체 생성\n",
    "animal = Animal()\n",
    "dog = Dog()\n",
    "cat = Cat()\n",
    "\n",
    "# 메서드 호출\n",
    "animal.speak()  # 출력: Animal speaks\n",
    "dog.speak()     # 출력: Dog barks\n",
    "cat.speak()     # 출력: Cat meows"
   ]
  },
  {
   "cell_type": "markdown",
   "metadata": {},
   "source": [
    "###has-a 표현"
   ]
  },
  {
   "cell_type": "code",
   "execution_count": 18,
   "metadata": {},
   "outputs": [
    {
     "name": "stdout",
     "output_type": "stream",
     "text": [
      "Person info:\n",
      "Name: 홍길동, Age: 40\n",
      "\n",
      "Employee info:\n",
      "Name: 김철수, Age: 30\n",
      "Department: 개발부\n",
      "Salary: 5000\n"
     ]
    }
   ],
   "source": [
    "# Dept 클래스 정의\n",
    "class Dept:\n",
    "    def __init__(self, name):\n",
    "        self.name = name  # 부서 이름\n",
    "\n",
    "    def show(self):\n",
    "        \"\"\"부서 정보를 출력\"\"\"\n",
    "        print(f\"Department: {self.name}\")\n",
    "\n",
    "# Person 클래스 정의\n",
    "class Person:\n",
    "    def __init__(self, name, age):\n",
    "        self.name = name  # 이름\n",
    "        self.age = age    # 나이\n",
    "    \n",
    "    def show(self):\n",
    "        \"\"\"Person 클래스의 정보를 출력\"\"\"\n",
    "        print(f\"Name: {self.name}, Age: {self.age}\")\n",
    "\n",
    "# Employee 클래스는 Person 클래스를 상속\n",
    "class Employee(Person):\n",
    "    def __init__(self, name, age, dept, salary):\n",
    "        super().__init__(name, age)  # 부모 클래스(Person)의 생성자 호출\n",
    "        self.dept = dept             # Dept 객체를 저장\n",
    "        self.salary = salary         # 급여\n",
    "    \n",
    "    def show(self):\n",
    "        \"\"\"Employee 클래스의 정보를 출력 (Person 클래스의 정보 포함)\"\"\"\n",
    "        super().show()  # 부모 클래스의 show() 호출\n",
    "        self.dept.show()  # Dept 객체의 show() 호출\n",
    "        print(f\"Salary: {self.salary}\")\n",
    "\n",
    "# Person 객체 생성\n",
    "person1 = Person(\"홍길동\", 40)\n",
    "print(\"Person info:\")\n",
    "person1.show() \n",
    "\n",
    "# Dept 객체 생성\n",
    "dept1 = Dept(\"개발부\")\n",
    "\n",
    "# Employee 객체 생성 (Dept 객체를 포함)\n",
    "employee1 = Employee(\"김철수\", 30, dept1, 5000)\n",
    "print(\"\\nEmployee info:\")\n",
    "employee1.show()"
   ]
  },
  {
   "cell_type": "markdown",
   "metadata": {},
   "source": [
    "특수 메소드: 더블언더 메소드(dunder method)> 매직 메소드"
   ]
  },
  {
   "cell_type": "code",
   "execution_count": 6,
   "metadata": {},
   "outputs": [
    {
     "name": "stdout",
     "output_type": "stream",
     "text": [
      "Person(이름: 홍길동, 나이: 30) Employee(부서: Department(부서명: 영업))\n",
      "Person(이름: 강감찬, 나이: 25) Employee(부서: Department(부서명: 코딩))\n",
      "Person(이름: 을지문덕, 나이: 28) Employee(부서: Department(부서명: 설계))\n",
      "Person(이름: 김유신, 나이: 35) Employee(부서: Department(부서명: 영업))\n",
      "Person(이름: 계백, 나이: 27) Employee(부서: Department(부서명: 코딩))\n"
     ]
    }
   ],
   "source": [
    "class Person:\n",
    "    def __init__(self, name, age):\n",
    "        self.name = name\n",
    "        self.age = age\n",
    "\n",
    "    def __str__(self):\n",
    "        return f'Person(이름: {self.name}, 나이: {self.age})'\n",
    "\n",
    "\n",
    "class Department:\n",
    "    def __init__(self, name):\n",
    "        self.name = name\n",
    "\n",
    "    def __str__(self):\n",
    "        return f'Department(부서명: {self.name})'\n",
    "\n",
    "\n",
    "class Employee(Person):\n",
    "    def __init__(self, name, age, department):\n",
    "        super().__init__(name, age)\n",
    "        self.department = department\n",
    "\n",
    "    def __str__(self):\n",
    "        #super().__str__()\n",
    "        #return f'Employee(이름: {self.name}, 나이: {self.age}, 부서: {self.department})'\n",
    "        return f'{super().__str__()} Employee(부서: {self.department})'\n",
    "\n",
    "\n",
    "# 부서 생성\n",
    "dept1 = Department(\"영업\")\n",
    "dept2 = Department(\"코딩\")\n",
    "dept3 = Department(\"설계\")\n",
    "\n",
    "# Employee 객체 5개 생성\n",
    "employees = [\n",
    "    Employee(\"홍길동\", 30, dept1),\n",
    "    Employee(\"강감찬\", 25, dept2),\n",
    "    Employee(\"을지문덕\", 28, dept3),\n",
    "    Employee(\"김유신\", 35, dept1),\n",
    "    Employee(\"계백\", 27, dept2)\n",
    "]\n",
    "\n",
    "# 생성된 Employee 객체 출력\n",
    "for employee in employees:\n",
    "    print(employee)"
   ]
  },
  {
   "cell_type": "markdown",
   "metadata": {},
   "source": [
    "더블 언더 메서드(dunder method)는 파이썬에서 특별한 의미를 가지는 메서드로, 객체의 행동을 정의하는 데 사용. \n",
    "__str__, __repr__, __eq__, __len__ 등"
   ]
  },
  {
   "cell_type": "code",
   "execution_count": 14,
   "metadata": {},
   "outputs": [
    {
     "name": "stdout",
     "output_type": "stream",
     "text": [
      "Employee(Name: 홍길동, Age: 30, Department: Department(Name: 개발))\n",
      "Employee(name='이광수', age=25, department=Department(name='코딩'))\n",
      "False\n",
      "False\n",
      "False\n",
      "7\n",
      "5\n"
     ]
    }
   ],
   "source": [
    "class Person:\n",
    "    def __init__(self, name, age):\n",
    "        self.name = name\n",
    "        self.age = age\n",
    "\n",
    "    def __str__(self):\n",
    "        return f'Person(Name: {self.name}, Age: {self.age})'\n",
    "\n",
    "    def __repr__(self):\n",
    "        return f'Person(name={self.name!r}, age={self.age!r})'\n",
    "\n",
    "    def __eq__(self, other):\n",
    "        if isinstance(other, Person):\n",
    "            return self.name == other.name and self.age == other.age\n",
    "        return False\n",
    "\n",
    "    def __len__(self):\n",
    "        return len(self.name) + len(str(self.age))  # 이름과 나이의 길이 합\n",
    "\n",
    "\n",
    "class Department:\n",
    "    def __init__(self, name):\n",
    "        self.name = name\n",
    "\n",
    "    def __str__(self):\n",
    "        return f'Department(Name: {self.name})'\n",
    "\n",
    "    def __repr__(self):\n",
    "        return f'Department(name={self.name!r})'\n",
    "\n",
    "\n",
    "class Employee(Person):\n",
    "    def __init__(self, name, age, department):\n",
    "        super().__init__(name, age)\n",
    "        self.department = department\n",
    "\n",
    "    def __str__(self):\n",
    "        return f'Employee(Name: {self.name}, Age: {self.age}, Department: {self.department})'\n",
    "\n",
    "    def __repr__(self):\n",
    "        return f'Employee(name={self.name!r}, age={self.age!r}, department={self.department!r})'\n",
    "\n",
    "    def __eq__(self, other):\n",
    "        if isinstance(other, Employee):\n",
    "            return super().__eq__(other) and self.department == other.department\n",
    "        return False\n",
    "\n",
    "    def __len__(self):\n",
    "        return len(self.name) + len(str(self.age)) + len(self.department.name)  # 이름, 나이, 부서의 길이 합\n",
    "\n",
    "\n",
    "# 부서 생성\n",
    "dept1 = Department(\"개발\")\n",
    "dept2 = Department(\"코딩\")\n",
    "\n",
    "# Employee 객체 2개 생성\n",
    "emp1 = Employee(\"홍길동\", 30, dept1)\n",
    "emp2 = Employee(\"이광수\", 25, dept2)\n",
    "\n",
    "# 객체 출력\n",
    "print(emp1)  # __str__ 사용\n",
    "print(repr(emp2))  # __repr__ 사용\n",
    "\n",
    "# 객체 비교\n",
    "print(emp1 == emp2)  # __eq__ 사용\n",
    "\n",
    "# Person 객체와 비교\n",
    "person1 = Person(\"강감찬\", 30)\n",
    "print(emp1 == person1)  # False (다른 클래스 비교)\n",
    "print(emp1 == emp2)  # False (다른 클래스 비교)\n",
    "# 길이 출력\n",
    "print(len(emp1))  # Employee 객체의 길이\n",
    "print(len(person1))  # Employee 객체의 길이"
   ]
  },
  {
   "cell_type": "markdown",
   "metadata": {},
   "source": [
    "###객체를 함수처럼 호출할 수 있게 하는 def __call__()\n",
    "\n",
    "###객체의 자동 소멸 시점: 참조 카운트가 0이 될 때\n",
    "\n",
    "파이썬은 **가비지 컬렉션(Garbage Collection)**을 사용하여\n",
    "\n",
    "사용되지 않는 객체를 자동으로 제거"
   ]
  },
  {
   "cell_type": "code",
   "execution_count": null,
   "metadata": {},
   "outputs": [
    {
     "name": "stdout",
     "output_type": "stream",
     "text": [
      "소멸 이광수\n",
      "Employee(Name: 홍길동, Age: 30, Department: Department(Name: 개발))\n",
      "Employee(name='이광수', age=25, department=Department(name='코딩'))\n",
      "False\n",
      "False\n",
      "7\n",
      "7\n",
      "나이 변경전: Employee(Name: 홍길동, Age: 30, Department: Department(Name: 개발))\n",
      "나이 변경후: Employee(Name: 홍길동, Age: 35, Department: Department(Name: 개발))\n",
      "소멸 홍길동\n",
      "<class '__main__.Employee'>\n"
     ]
    }
   ],
   "source": [
    "class Person:\n",
    "    def __init__(self, name, age):\n",
    "        self.name = name\n",
    "        self.age = age\n",
    "\n",
    "    def __str__(self):\n",
    "        return f'Person(Name: {self.name}, Age: {self.age})'\n",
    "\n",
    "    def __repr__(self):\n",
    "        return f'Person(name={self.name!r}, age={self.age!r})'\n",
    "\n",
    "    def __eq__(self, other):\n",
    "        if isinstance(other, Person):\n",
    "            return self.name == other.name and self.age == other.age\n",
    "        return False\n",
    "\n",
    "    def __len__(self):\n",
    "        return len(self.name) + len(str(self.age))\n",
    "\n",
    "\n",
    "class Department:\n",
    "    def __init__(self, name):\n",
    "        self.name = name\n",
    "\n",
    "    def __str__(self):\n",
    "        return f'Department(Name: {self.name})'\n",
    "\n",
    "    def __repr__(self):\n",
    "        return f'Department(name={self.name!r})'\n",
    "\n",
    "\n",
    "class Employee(Person):\n",
    "    def __init__(self, name, age, department):\n",
    "        super().__init__(name, age)\n",
    "        self.department = department\n",
    "\n",
    "    def __str__(self):\n",
    "        return f'Employee(Name: {self.name}, Age: {self.age}, Department: {self.department})'\n",
    "\n",
    "    def __repr__(self):\n",
    "        return f'Employee(name={self.name!r}, age={self.age!r}, department={self.department!r})'\n",
    "\n",
    "    def __eq__(self, other):\n",
    "        if isinstance(other, Employee):\n",
    "            return super().__eq__(other) and self.department == other.department\n",
    "        return False\n",
    "\n",
    "    def __len__(self):\n",
    "        return len(self.name) + len(str(self.age)) + len(self.department.name)\n",
    "\n",
    "    def __call__(self, new_age):\n",
    "        self.age = new_age  # 나이를 업데이트하는 메서드\n",
    "    \n",
    "    def __del__(self):\n",
    "        print(\"소멸 {}\".format(self.name)) # __del__() 메서드는 객체가 소멸될 때 자동으로 호출되며, 이 메서드 내부에 특정 작업을 수행할 수 있음을 보이는 것\n",
    "\n",
    "\n",
    "\n",
    "# 부서 생성\n",
    "dept1 = Department(\"개발\")\n",
    "dept2 = Department(\"코딩\")\n",
    "\n",
    "# Employee 객체 2개 생성\n",
    "emp1 = Employee(\"홍길동\", 30, dept1)\n",
    "emp2 = Employee(\"이광수\", 25, dept2)\n",
    "\n",
    "# 객체 출력\n",
    "print(emp1)  # __str__ 사용\n",
    "print(repr(emp2))  # __repr__ 사용\n",
    "\n",
    "# 객체 비교\n",
    "print(emp1 == emp2)  # __eq__ 사용\n",
    "\n",
    "# Person 객체와 비교\n",
    "person1 = Person(\"강감찬\", 30)\n",
    "print(emp1 == person1)  # False (다른 클래스 비교)\n",
    "\n",
    "# 길이 출력\n",
    "print(len(emp1))  # Employee 객체의 길이\n",
    "print(len(emp2))  # Employee 객체의 길이\n",
    "\n",
    "# __call__ 메서드 사용\n",
    "print(f\"나이 변경전: {emp1}\")\n",
    "emp1(35)  # 나이 업데이트\n",
    "print(f\"나이 변경후: {emp1}\")\n",
    "\n",
    "del emp1\n",
    "\n",
    "if (isinstance(emp2, Employee)):\n",
    "    print(type(emp2))\n"
   ]
  },
  {
   "cell_type": "markdown",
   "metadata": {},
   "source": [
    "클래스 import > 교재 249페이지를 사용"
   ]
  },
  {
   "cell_type": "code",
   "execution_count": 20,
   "metadata": {},
   "outputs": [
    {
     "name": "stdout",
     "output_type": "stream",
     "text": [
      "2019 Subaru Outback\n",
      "This car has 23500 miles on it.\n",
      "This car has 23600 miles on it.\n"
     ]
    }
   ],
   "source": [
    "from car import Car\n",
    "\n",
    "my_used_car = Car('subaru', 'outback', 2019)\n",
    "print(my_used_car.get_descriptive_name())\n",
    "\n",
    "my_used_car.update_odometer(23_500)\n",
    "my_used_car.read_odometer()\n",
    "\n",
    "my_used_car.increment_odometer(100)\n",
    "my_used_car.read_odometer()\n",
    "\n"
   ]
  },
  {
   "cell_type": "code",
   "execution_count": 22,
   "metadata": {},
   "outputs": [
    {
     "name": "stdout",
     "output_type": "stream",
     "text": [
      "2024 Nissan Leaf\n",
      "This car has a 40-kWh battery.\n",
      "This car can go about 150 miles on a full charge.\n",
      "2024 Kia K7\n"
     ]
    }
   ],
   "source": [
    "# 교재 P250 코드 사용\n",
    "from electric_car import ElectricCar, Car\n",
    "\n",
    "my_leaf = ElectricCar('nissan', 'leaf', 2024)\n",
    "print(my_leaf.get_descriptive_name())\n",
    "my_leaf.battery.describe_battery()\n",
    "my_leaf.battery.get_range()\n",
    "\n",
    "mycar = Car('kia', 'k7', 2024)\n",
    "print(mycar.get_descriptive_name())"
   ]
  },
  {
   "cell_type": "markdown",
   "metadata": {},
   "source": [
    "파이썬 표준 라이브러리: 교재 256페이지 "
   ]
  },
  {
   "cell_type": "code",
   "execution_count": 24,
   "metadata": {},
   "outputs": [
    {
     "name": "stdout",
     "output_type": "stream",
     "text": [
      "2차원 행렬 (0과 1 사이의 난수):\n",
      "[0.8796379411753398, 0.15218833377065089, 0.578388673263333, 0.5151433652617644]\n",
      "[0.5823600319862173, 0.9939118127955059, 0.41289482368503605, 0.2304827604092039]\n",
      "[0.4957704190059766, 0.07731123320520139, 0.1603072788696469, 0.9959822073214859]\n",
      "\n",
      "2차원 행렬 (정수 난수, 0부터 9까지):\n",
      "[0, 2, 1, 3]\n",
      "[9, 7, 7, 4]\n",
      "[1, 5, 8, 3]\n"
     ]
    }
   ],
   "source": [
    "import random\n",
    "\n",
    "# 행렬의 크기 설정\n",
    "rows = 3  # 행의 개수\n",
    "cols = 4  # 열의 개수\n",
    "\n",
    "# 0과 1 사이의 난수로 2차원 행렬 생성\n",
    "matrix = [[random.uniform(0, 1) for _ in range(cols)] for _ in range(rows)]\n",
    "\n",
    "# 결과 출력\n",
    "print(\"2차원 행렬 (0과 1 사이의 난수):\")\n",
    "for row in matrix:\n",
    "    print(row)\n",
    "\n",
    "# 정수 범위의 난수 생성 (예: 0부터 10까지)\n",
    "int_matrix = [[random.randint(0, 9) for _ in range(cols)] for _ in range(rows)]\n",
    "\n",
    "print(\"\\n2차원 행렬 (정수 난수, 0부터 9까지):\")\n",
    "for row in int_matrix:\n",
    "    print(row)"
   ]
  },
  {
   "cell_type": "code",
   "execution_count": 25,
   "metadata": {},
   "outputs": [
    {
     "name": "stdout",
     "output_type": "stream",
     "text": [
      "2차원 행렬 (0과 1 사이의 난수):\n",
      "[[0.5729567  0.57420292 0.24638596 0.19780699]\n",
      " [0.55189222 0.37314794 0.48706113 0.77186758]\n",
      " [0.92482578 0.40253069 0.33976583 0.44217086]]\n",
      "\n",
      "2차원 행렬 (정수 난수, 0부터 10까지):\n",
      "[[7 3 8 1]\n",
      " [0 4 8 4]\n",
      " [3 4 6 8]]\n"
     ]
    }
   ],
   "source": [
    "import numpy as np\n",
    "\n",
    "# 행렬의 크기 설정\n",
    "rows = 3  # 행의 개수\n",
    "cols = 4  # 열의 개수\n",
    "\n",
    "# 0과 1 사이의 난수로 2차원 행렬 생성\n",
    "matrix = np.random.rand(rows, cols)\n",
    "\n",
    "# 결과 출력\n",
    "print(\"2차원 행렬 (0과 1 사이의 난수):\")\n",
    "print(matrix)\n",
    "\n",
    "# 정수 범위의 난수 생성 (예: 0부터 10까지)\n",
    "int_matrix = np.random.randint(0, 10, size=(rows, cols))\n",
    "\n",
    "print(\"\\n2차원 행렬 (정수 난수, 0부터 10까지):\")\n",
    "print(int_matrix)"
   ]
  },
  {
   "cell_type": "code",
   "execution_count": 38,
   "metadata": {},
   "outputs": [
    {
     "name": "stdout",
     "output_type": "stream",
     "text": [
      "follow\n",
      "good\n",
      "good\n",
      "go\n",
      "follow\n"
     ]
    }
   ],
   "source": [
    "from random import choice\n",
    "lst = ['good','nice','beauty','follow','go','come','java']\n",
    "for _ in range(5):\n",
    "    rnd = choice(lst)\n",
    "    print(rnd)\n"
   ]
  },
  {
   "cell_type": "markdown",
   "metadata": {},
   "source": [
    "클래스 변수와 클래스  메소드 사용 "
   ]
  },
  {
   "cell_type": "code",
   "execution_count": 41,
   "metadata": {},
   "outputs": [
    {
     "name": "stdout",
     "output_type": "stream",
     "text": [
      "이름: 홍길동, 나이: 30\n",
      "부서명: 설계\n",
      "월급: 50000\n",
      "이름: 강감찬, 나이: 25\n",
      "부서명: 코딩\n",
      "월급: 60000\n",
      "부서갯수: 2\n",
      "사람수: 2\n",
      "직원수: 2\n"
     ]
    }
   ],
   "source": [
    "# Dept 클래스 정의\n",
    "class Dept:\n",
    "    total_departments = 0  # 클래스 변수\n",
    "\n",
    "    def __init__(self, name):\n",
    "        self.name = name  # 부서 이름\n",
    "        Dept.total_departments += 1  # 부서가 생성될 때마다 클래스 변수를 증가\n",
    "    \n",
    "    def show(self):\n",
    "        \"\"\"부서 정보를 출력\"\"\"\n",
    "        print(f\"부서명: {self.name}\")\n",
    "\n",
    "    @classmethod\n",
    "    def show_total_departments(cls):\n",
    "        \"\"\"전체 부서 수를 출력하는 클래스 메소드\"\"\"\n",
    "        print(f\"부서갯수: {cls.total_departments}\") #cls는 클래스 메서드가 호출되는 클래스 자체를 가리킨다\n",
    "\n",
    "\n",
    "# Person 클래스 정의\n",
    "class Person:\n",
    "    total_persons = 0  # 클래스 변수\n",
    "\n",
    "    def __init__(self, name, age):\n",
    "        self.name = name  # 이름\n",
    "        self.age = age    # 나이\n",
    "        Person.total_persons += 1  # Person 객체가 생성될 때마다 클래스 변수를 증가\n",
    "    \n",
    "    def show(self):\n",
    "        \"\"\"Person 클래스의 정보를 출력\"\"\"\n",
    "        print(f\"이름: {self.name}, 나이: {self.age}\")\n",
    "\n",
    "    @classmethod\n",
    "    def show_total_persons(cls):\n",
    "        \"\"\"전체 사람 수를 출력하는 클래스 메소드\"\"\"\n",
    "        print(f\"사람수: {cls.total_persons}\")\n",
    "\n",
    "\n",
    "# Employee 클래스는 Person 클래스를 상속\n",
    "class Employee(Person):\n",
    "    total_employees = 0  # 클래스 변수\n",
    "\n",
    "    def __init__(self, name, age, dept, salary):\n",
    "        super().__init__(name, age)  # 부모 클래스(Person)의 생성자 호출\n",
    "        self.dept = dept             # Dept 객체를 저장\n",
    "        self.salary = salary         # 급여\n",
    "        Employee.total_employees += 1  # Employee 객체가 생성될 때마다 클래스 변수를 증가\n",
    "    \n",
    "    def show(self):\n",
    "        \"\"\"Employee 클래스의 정보를 출력 (Person 클래스의 정보 포함)\"\"\"\n",
    "        super().show()  # 부모 클래스의 show() 호출\n",
    "        self.dept.show()  # Dept 객체의 show() 호출\n",
    "        print(f\"월급: {self.salary}\")\n",
    "\n",
    "    @classmethod\n",
    "    def show_total_employees(cls):\n",
    "        \"\"\"전체 직원 수를 출력하는 클래스 메소드\"\"\"\n",
    "        print(f\"직원수: {cls.total_employees}\")\n",
    "\n",
    "\n",
    "# 예시 사용\n",
    "dept1 = Dept(\"설계\")\n",
    "dept2 = Dept(\"코딩\")\n",
    "\n",
    "emp1 = Employee(\"홍길동\", 30, dept1, 50000)\n",
    "emp2 = Employee(\"강감찬\", 25, dept2, 60000)\n",
    "\n",
    "# 각 클래스의 인스턴스 메소드 호출\n",
    "emp1.show()\n",
    "emp2.show()\n",
    "\n",
    "# 클래스 메소드 호출\n",
    "Dept.show_total_departments() #cls는 Dept를 받는다 \n",
    "Person.show_total_persons()\n",
    "Employee.show_total_employees()"
   ]
  },
  {
   "cell_type": "markdown",
   "metadata": {},
   "source": [
    "리스트와 튜플의 unpacking 사용"
   ]
  },
  {
   "cell_type": "code",
   "execution_count": 43,
   "metadata": {},
   "outputs": [
    {
     "name": "stdout",
     "output_type": "stream",
     "text": [
      "[1, 2, 3, 4, 5, 6]\n"
     ]
    }
   ],
   "source": [
    "a=[1,2,3]\n",
    "b=[4,5,6]\n",
    "mylist = [*a,*b] # *는 iterable 객체를 unpacking하는 의미 \n",
    "print(mylist)"
   ]
  },
  {
   "cell_type": "code",
   "execution_count": 44,
   "metadata": {},
   "outputs": [
    {
     "name": "stdout",
     "output_type": "stream",
     "text": [
      "사과\n",
      "바나나\n",
      "감\n"
     ]
    }
   ],
   "source": [
    "# 리스트 정의\n",
    "fruits = ['사과', '바나나', '감']\n",
    "\n",
    "# 리스트 unpacking\n",
    "fruit1, fruit2, fruit3 = fruits\n",
    "\n",
    "# 결과 출력\n",
    "print(fruit1)  # apple\n",
    "print(fruit2)  # banana\n",
    "print(fruit3)  # cherry"
   ]
  },
  {
   "cell_type": "code",
   "execution_count": 45,
   "metadata": {},
   "outputs": [
    {
     "name": "stdout",
     "output_type": "stream",
     "text": [
      "10\n",
      "20\n",
      "30\n"
     ]
    }
   ],
   "source": [
    "# 튜플 정의\n",
    "coordinates = (10, 20, 30)\n",
    "\n",
    "# 튜플 unpacking\n",
    "x, y, z = coordinates\n",
    "\n",
    "# 결과 출력\n",
    "print(x)  # 10\n",
    "print(y)  # 20\n",
    "print(z)  # 30"
   ]
  },
  {
   "cell_type": "code",
   "execution_count": null,
   "metadata": {},
   "outputs": [],
   "source": [
    "def init():\n",
    "  return 1,2,3\n",
    "\n",
    "_,a,b = init() #함수 return 값의 unpacking"
   ]
  },
  {
   "cell_type": "code",
   "execution_count": 46,
   "metadata": {},
   "outputs": [
    {
     "name": "stdout",
     "output_type": "stream",
     "text": [
      "1\n",
      "[2, 3, 4, 5]\n",
      "1\n",
      "[2, 3, 4]\n",
      "5\n"
     ]
    }
   ],
   "source": [
    "# 리스트 정의\n",
    "numbers = [1, 2, 3, 4, 5]\n",
    "\n",
    "# 언패킹 - 첫 번째 요소는 n1, 나머지는 others 리스트로 묶음\n",
    "n1, *others = numbers\n",
    "\n",
    "print(n1)      # 1\n",
    "print(others)  # [2, 3, 4, 5]\n",
    "\n",
    "# 언패킹 - 첫 번째와 마지막 요소를 나누고, 가운데는 middle 리스트로 묶음\n",
    "n1, *middle, n5 = numbers\n",
    "\n",
    "print(n1)      # 1\n",
    "print(middle)  # [2, 3, 4]\n",
    "print(n5)      # 5"
   ]
  },
  {
   "cell_type": "code",
   "execution_count": 47,
   "metadata": {},
   "outputs": [
    {
     "name": "stdout",
     "output_type": "stream",
     "text": [
      "6\n",
      "60\n"
     ]
    }
   ],
   "source": [
    "# 함수 정의\n",
    "def add(a, b, c):\n",
    "    return a + b + c\n",
    "\n",
    "# 리스트 정의\n",
    "numbers = [1, 2, 3]\n",
    "\n",
    "# 리스트 unpacking을 사용하여 함수 호출\n",
    "result = add(*numbers)\n",
    "print(result)  # 6\n",
    "\n",
    "# 튜플 정의\n",
    "coords = (10, 20, 30)\n",
    "\n",
    "# 튜플 unpacking을 사용하여 함수 호출\n",
    "result = add(*coords)\n",
    "print(result)  # 60"
   ]
  },
  {
   "cell_type": "code",
   "execution_count": null,
   "metadata": {},
   "outputs": [],
   "source": [
    "x = 10\n",
    "y = 20\n",
    "\n",
    "# 변수 스왑\n",
    "x, y = y, x ##unpacking으로 swapping variables\n",
    "\n",
    "print(x)  # 20\n",
    "print(y)  # 10"
   ]
  },
  {
   "cell_type": "markdown",
   "metadata": {},
   "source": [
    "리스트, 튜플의 unpacking과 unzip\n",
    "unpacking: list, tuple의 각 element를 여러 변수에 assign\n",
    "unzip: tuple의 element들을 분리하여 각 element별로 리스트로 나누는 것"
   ]
  },
  {
   "cell_type": "code",
   "execution_count": null,
   "metadata": {},
   "outputs": [],
   "source": [
    "# 리스트에서 언패킹\n",
    "numbers = [1, 2, 3]\n",
    "a, b, c = numbers  # 각 요소를 a, b, c에 할당\n",
    "\n",
    "print(a)  # 1\n",
    "print(b)  # 2\n",
    "print(c)  # 3\n",
    "\n",
    "# 튜플에서 언패킹\n",
    "coordinates = (4, 5, 6)\n",
    "x, y, z = coordinates  # 각 요소를 x, y, z에 할당\n",
    "\n",
    "print(x)  # 4\n",
    "print(y)  # 5\n",
    "print(z)  # 6"
   ]
  },
  {
   "cell_type": "code",
   "execution_count": null,
   "metadata": {},
   "outputs": [],
   "source": [
    "### Unzip : 각 튜플의 요소들을 별도의 리스트, 튜플로 나누는 작업으로 zip()으로 한다\n",
    "### zip(*iterable)으로 사용\n",
    "\n",
    "# 여러 튜플을 포함한 리스트\n",
    "pairs = [(1, 'a'), (2, 'b'), (3, 'c')]\n",
    "\n",
    "# Unzip: 각각의 첫 번째 요소와 두 번째 요소를 분리\n",
    "numbers, letters = zip(*pairs)\n",
    "\n",
    "print(numbers)  # (1, 2, 3)\n",
    "print(letters)  # ('a', 'b', 'c')"
   ]
  },
  {
   "cell_type": "code",
   "execution_count": null,
   "metadata": {},
   "outputs": [],
   "source": [
    "# 데이터 정의\n",
    "data = [(100, 'Alice'), (200, 'Bob'), (300, 'Charlie')]\n",
    "\n",
    "# unzip으로 두 개의 리스트로 분리\n",
    "ids, names = zip(*data) ##unpacking과 unzip을 동시에 처리\n",
    "\n",
    "# 분리된 리스트를 unpacking\n",
    "id1, id2, id3 = ids\n",
    "name1, name2, name3 = names\n",
    "\n",
    "print(id1, name1)  # 100 Alice\n",
    "print(id2, name2)  # 200 Bob\n",
    "print(id3, name3)  # 300 Charlie"
   ]
  },
  {
   "cell_type": "code",
   "execution_count": null,
   "metadata": {},
   "outputs": [],
   "source": [
    "### zip() 사용 예\n",
    "\n",
    "# 두 개의 리스트\n",
    "list1 = [1, 2, 3]\n",
    "list2 = ['a', 'b', 'c']\n",
    "\n",
    "# zip()으로 두 리스트를 묶음\n",
    "zipped = zip(list1, list2)\n",
    "\n",
    "# 출력 (zip 객체를 리스트로 변환)\n",
    "print(list(zipped))  # [(1, 'a'), (2, 'b'), (3, 'c')]"
   ]
  },
  {
   "cell_type": "code",
   "execution_count": null,
   "metadata": {},
   "outputs": [],
   "source": [
    "# 이미 zip된 리스트\n",
    "zipped_list = [(1, 'a'), (2, 'b'), (3, 'c')]\n",
    "\n",
    "# zip(*zipped_list)로 unzip\n",
    "numbers, letters = zip(*zipped_list)\n",
    "\n",
    "print(numbers)  # (1, 2, 3)\n",
    "print(letters)  # ('a', 'b', 'c')"
   ]
  },
  {
   "cell_type": "markdown",
   "metadata": {},
   "source": [
    "zip()은 묶는 작업이고, unzip은 zip(*...)을 통해 묶인 데이터를 다시 푸는 작업"
   ]
  },
  {
   "cell_type": "code",
   "execution_count": null,
   "metadata": {},
   "outputs": [],
   "source": [
    "# 두 리스트 정의\n",
    "numbers = [1, 2, 3]\n",
    "letters = ['a', 'b', 'c']\n",
    "\n",
    "# zip() 사용: 리스트를 묶음\n",
    "zipped = list(zip(numbers, letters))\n",
    "print(f\"Zipped: {zipped}\")  # [(1, 'a'), (2, 'b'), (3, 'c')]\n",
    "\n",
    "# unzip: zip을 다시 풀어서 리스트로 분리\n",
    "unzipped_numbers, unzipped_letters = zip(*zipped)\n",
    "print(f\"Unzipped numbers: {unzipped_numbers}\")  # (1, 2, 3)\n",
    "print(f\"Unzipped letters: {unzipped_letters}\")  # ('a', 'b', 'c')"
   ]
  },
  {
   "cell_type": "markdown",
   "metadata": {},
   "source": [
    "클래스 인스턴스를 배열처러 사용하기 "
   ]
  },
  {
   "cell_type": "code",
   "execution_count": 50,
   "metadata": {},
   "outputs": [
    {
     "name": "stdout",
     "output_type": "stream",
     "text": [
      "---인덱스 사용---\n",
      "__getitem__() 호출됨\n",
      "1\n",
      "---변경---\n",
      "__setitem__() 호출됨\n",
      "---출력---\n",
      "__repr__() 호출됨\n",
      "[1, 10, 3, 4]\n",
      "---삭제---\n",
      "__repr__() 호출됨\n",
      "[1, 10, 4]\n",
      "3\n"
     ]
    }
   ],
   "source": [
    "class MyList:\n",
    "    def __init__(self, initial_data):\n",
    "        # 초기 데이터를 리스트로 저장\n",
    "        self.data = list(initial_data)\n",
    "    \n",
    "    # 인덱스 접근을 위한 __getitem__ 메서드 구현\n",
    "    def __getitem__(self, index): ### 머신러닝에서 사용됨 \n",
    "        print(\"__getitem__() 호출됨\")\n",
    "        return self.data[index]\n",
    "    \n",
    "    # 인덱스를 통해 값을 설정하는 __setitem__ 메서드 구현\n",
    "    def __setitem__(self, index, value):\n",
    "        print(\"__setitem__() 호출됨\")\n",
    "        self.data[index] = value\n",
    "    \n",
    "    # 인덱스를 통해 값을 삭제하는 __delitem__ 메서드 구현\n",
    "    def __delitem__(self, index):\n",
    "        del self.data[index]\n",
    "    \n",
    "    # len() 함수가 작동하도록 __len__ 메서드 구현\n",
    "    def __len__(self):\n",
    "        return len(self.data)\n",
    "    \n",
    "    # 출력할 때 인스턴스의 리스트 데이터를 보여주기 위한 __repr__ 메서드 구현\n",
    "    def __repr__(self):\n",
    "        print(\"__repr__() 호출됨\")\n",
    "        return repr(self.data)\n",
    "\n",
    "# 사용 예시\n",
    "my_list = MyList([1, 2, 3, 4])\n",
    "print('---인덱스 사용---')\n",
    "# 배열처럼 접근\n",
    "print(my_list[0])  # 1\n",
    "\n",
    "print('---변경---')\n",
    "# 배열처럼 값 변경\n",
    "my_list[1] = 10\n",
    "print('---출력---')\n",
    "print(my_list)  # [1, 10, 3, 4]\n",
    "\n",
    "print('---삭제---')\n",
    "# 배열처럼 값 삭제\n",
    "del my_list[2]\n",
    "print(my_list)  # [1, 10, 4]\n",
    "\n",
    "# 배열의 길이 확인\n",
    "print(len(my_list))  # 3"
   ]
  }
 ],
 "metadata": {
  "kernelspec": {
   "display_name": "Python 3",
   "language": "python",
   "name": "python3"
  },
  "language_info": {
   "codemirror_mode": {
    "name": "ipython",
    "version": 3
   },
   "file_extension": ".py",
   "mimetype": "text/x-python",
   "name": "python",
   "nbconvert_exporter": "python",
   "pygments_lexer": "ipython3",
   "version": "3.11.9"
  }
 },
 "nbformat": 4,
 "nbformat_minor": 2
}
