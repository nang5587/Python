{
 "cells": [
  {
   "cell_type": "code",
   "execution_count": 8,
   "id": "3ebef45f",
   "metadata": {},
   "outputs": [
    {
     "name": "stdout",
     "output_type": "stream",
     "text": [
      "사과\n",
      "바나나\n",
      "포도\n",
      "오렌지\n",
      "복숭아\n"
     ]
    }
   ],
   "source": [
    "# 아래의 리스트를 while문을 이용해 하나씩 출력하세요.\n",
    "fruits = [\"사과\", \"바나나\", \"포도\", \"오렌지\", \"복숭아\"]\n",
    "i = 0\n",
    "while i < len(fruits):\n",
    "    print(fruits[i])\n",
    "    i = i + 1"
   ]
  },
  {
   "cell_type": "code",
   "execution_count": 3,
   "id": "e4aa3890",
   "metadata": {},
   "outputs": [
    {
     "name": "stdout",
     "output_type": "stream",
     "text": [
      "['사과', '포도', '딸기', '참외']\n"
     ]
    }
   ],
   "source": [
    "# 사용자에게 과일 이름을 입력받아 리스트에 저장하되, \"끝\"을 입력하면 입력을 종료하고 리스트를 출력하세요.\n",
    "list = []\n",
    "i = 0\n",
    "fruit = \"\"\n",
    "while fruit != \"끝\":\n",
    "    fruit = input(\"과일을 입력하세요 : \")\n",
    "    if(fruit != \"끝\"): list.append(fruit)\n",
    "print(list)"
   ]
  },
  {
   "cell_type": "code",
   "execution_count": 15,
   "id": "ec901d12",
   "metadata": {},
   "outputs": [
    {
     "name": "stdout",
     "output_type": "stream",
     "text": [
      "['홍길동', '이순신', '유관순']\n",
      "5\n"
     ]
    }
   ],
   "source": [
    "# 딕셔너리에 저장된 학생 이름과 점수에서 80점 이상인 학생 이름만 출력하세요.\n",
    "scores = {\n",
    "    \"홍길동\": 85,\n",
    "    \"김유신\": 76,\n",
    "    \"이순신\": 90,\n",
    "    \"강감찬\": 55,\n",
    "    \"유관순\": 88\n",
    "}\n",
    "\n",
    "list = [name for name, score in scores.items() if score >= 80]\n",
    "print(list)"
   ]
  },
  {
   "cell_type": "code",
   "execution_count": 6,
   "id": "066d515e",
   "metadata": {},
   "outputs": [
    {
     "name": "stdout",
     "output_type": "stream",
     "text": [
      "1\n"
     ]
    }
   ],
   "source": [
    "# 단어 퀴즈 프로그램을 만들자. 사용자에게 뜻을 주고 단어를 맞히게 하세요. 총 3문제 출제 후 맞힌 개수를 출력하세요.\n",
    "quiz = {\n",
    "    \"apple\": \"사과\",\n",
    "    \"banana\": \"바나나\",\n",
    "    \"grape\": \"포도\"\n",
    "}\n",
    "\n",
    "success=0\n",
    "i = 0\n",
    "while i < quiz.__len__():\n",
    "    answer = input(\"뜻을 입력하세요 : \")\n",
    "    if(i == 0 and answer == \"사과\"): success = success + 1\n",
    "    elif(i == 1 and answer == \"바나나\"): success = success + 1\n",
    "    elif(i == 2 and answer == \"포도\"): success = success + 1\n",
    "    i = i+1\n",
    "print(success)"
   ]
  },
  {
   "cell_type": "code",
   "execution_count": 8,
   "id": "d4106465",
   "metadata": {},
   "outputs": [
    {
     "name": "stdout",
     "output_type": "stream",
     "text": [
      "{'나현': '24'}\n"
     ]
    }
   ],
   "source": [
    "# 사용자에게 이름과 나이를 입력받아 딕셔너리에 저장하세요. \"종료\"라고 입력하면 저장을 멈추고 전체를 출력하세요.\n",
    "# 예시:\n",
    "# 입력: 이름: 홍길동 / 나이: 21\n",
    "# 종료\n",
    "# 결과: {'홍길동': 21}\n",
    "dataDict = {}\n",
    "name = \"\"\n",
    "age = 0\n",
    "while name != \"종료\" or age != \"종료\":\n",
    "    name = input(\"이름: \")\n",
    "    age = input(\"나이: \")\n",
    "    if(name != \"종료\" or age != \"종료\"): \n",
    "        dataDict[name] = age\n",
    "print(dataDict)"
   ]
  },
  {
   "cell_type": "code",
   "execution_count": null,
   "id": "0a2e53a9",
   "metadata": {},
   "outputs": [],
   "source": []
  }
 ],
 "metadata": {
  "kernelspec": {
   "display_name": "Python 3",
   "language": "python",
   "name": "python3"
  },
  "language_info": {
   "codemirror_mode": {
    "name": "ipython",
    "version": 3
   },
   "file_extension": ".py",
   "mimetype": "text/x-python",
   "name": "python",
   "nbconvert_exporter": "python",
   "pygments_lexer": "ipython3",
   "version": "3.9.13"
  }
 },
 "nbformat": 4,
 "nbformat_minor": 5
}
