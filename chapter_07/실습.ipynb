{
 "cells": [
  {
   "cell_type": "code",
   "execution_count": 8,
   "id": "3ebef45f",
   "metadata": {},
   "outputs": [
    {
     "name": "stdout",
     "output_type": "stream",
     "text": [
      "사과\n",
      "바나나\n",
      "포도\n",
      "오렌지\n",
      "복숭아\n"
     ]
    }
   ],
   "source": [
    "# 아래의 리스트를 while문을 이용해 하나씩 출력하세요.\n",
    "fruits = [\"사과\", \"바나나\", \"포도\", \"오렌지\", \"복숭아\"]\n",
    "i = 0\n",
    "while i < len(fruits):\n",
    "    print(fruits[i])\n",
    "    i = i + 1"
   ]
  },
  {
   "cell_type": "code",
   "execution_count": null,
   "id": "e4aa3890",
   "metadata": {},
   "outputs": [],
   "source": [
    "# 사용자에게 과일 이름을 입력받아 리스트에 저장하되, \"끝\"을 입력하면 입력을 종료하고 리스트를 출력하세요.\n",
    "fruit = input(\"과일을 입력하세요 : \")\n",
    "list = [\"사과\"]\n",
    "i = 0\n",
    "while str(fruit) != \"끝\":\n",
    "    list[0] = fruit\n",
    "print(list)"
   ]
  }
 ],
 "metadata": {
  "kernelspec": {
   "display_name": "Python 3",
   "language": "python",
   "name": "python3"
  },
  "language_info": {
   "codemirror_mode": {
    "name": "ipython",
    "version": 3
   },
   "file_extension": ".py",
   "mimetype": "text/x-python",
   "name": "python",
   "nbconvert_exporter": "python",
   "pygments_lexer": "ipython3",
   "version": "3.9.13"
  }
 },
 "nbformat": 4,
 "nbformat_minor": 5
}
