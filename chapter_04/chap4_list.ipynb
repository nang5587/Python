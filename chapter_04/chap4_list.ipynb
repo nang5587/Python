{
 "cells": [
  {
   "cell_type": "code",
   "execution_count": 2,
   "id": "61516107",
   "metadata": {},
   "outputs": [
    {
     "name": "stdout",
     "output_type": "stream",
     "text": [
      "1\n",
      "2\n",
      "3\n",
      "4\n"
     ]
    }
   ],
   "source": [
    "lst = [1,2,3,4]\n",
    "for num in lst:\n",
    "    print(num)"
   ]
  },
  {
   "cell_type": "code",
   "execution_count": null,
   "id": "aba355e4",
   "metadata": {},
   "outputs": [
    {
     "name": "stdout",
     "output_type": "stream",
     "text": [
      "1\n",
      "2\n",
      "3\n",
      "4\n"
     ]
    }
   ],
   "source": [
    "for value in range(1, 5): # 1부터 4까지 범위 ## 리스트 자리에 range() 함수가 옴\n",
    "    print(value)"
   ]
  },
  {
   "cell_type": "code",
   "execution_count": 9,
   "id": "56c21dec",
   "metadata": {},
   "outputs": [
    {
     "name": "stdout",
     "output_type": "stream",
     "text": [
      "[1, 2, 3, 4, 5]\n",
      "range(1, 5)\n"
     ]
    }
   ],
   "source": [
    "numbers = list(range(1, 6)) # list()를 사용하면 그 숫자들을 리스트로 변환\n",
    "print(numbers)\n",
    "\n",
    "numbers = range(1,5) # range()는 리스트가 아니라 range 객체를 반환\n",
    "print(numbers)"
   ]
  },
  {
   "cell_type": "code",
   "execution_count": 18,
   "id": "f44aadc8",
   "metadata": {},
   "outputs": [
    {
     "name": "stdout",
     "output_type": "stream",
     "text": [
      "[0, 2, 4, 6, 8, 10]\n",
      "[1, 3, 5, 7, 9]\n",
      "[0, 2, 4, 6, 8, 10, 1, 3, 5, 7, 9]\n",
      "[0, 2, 4, 6, 8, 10, 0, 2, 4, 6, 8, 10]\n",
      "[0, 2, 4]\n",
      "[0, 2, 4, 6, 8, 10]\n"
     ]
    }
   ],
   "source": [
    "a = list(range(0, 11, 2))\n",
    "b = list(range(1, 11, 2))\n",
    "print(a)\n",
    "print(b)\n",
    "print(a+b)\n",
    "# print(a-b) ## 리스트끼리 뺄셈은 안 됨\n",
    "print(a*2)\n",
    "print(a[0:3])\n",
    "c = [x for x in a if x not in b]\n",
    "print(c)"
   ]
  },
  {
   "cell_type": "code",
   "execution_count": 21,
   "id": "5ec528c2",
   "metadata": {},
   "outputs": [
    {
     "name": "stdout",
     "output_type": "stream",
     "text": [
      "[1, 4, 9, 16, 25, 36, 49, 64, 81, 100]\n"
     ]
    }
   ],
   "source": [
    "squares = []\n",
    "for value in range(1, 11):\n",
    "    square = value ** 2\n",
    "    squares.append(square)\n",
    "\n",
    "print(squares)"
   ]
  },
  {
   "cell_type": "code",
   "execution_count": 23,
   "id": "dbb1b694",
   "metadata": {},
   "outputs": [
    {
     "name": "stdout",
     "output_type": "stream",
     "text": [
      "[1, 4, 9, 16, 25, 36, 49, 64, 81, 100]\n"
     ]
    }
   ],
   "source": [
    "squares2 = [num*num for num in range(1, 11)]\n",
    "print(squares2)"
   ]
  },
  {
   "cell_type": "code",
   "execution_count": null,
   "id": "9a7a26af",
   "metadata": {},
   "outputs": [
    {
     "name": "stdout",
     "output_type": "stream",
     "text": [
      "0번째는 a\n",
      "1번째는 b\n",
      "2번째는 c\n",
      "3번째는 d\n",
      "0번째는 a\n",
      "1번째는 b\n",
      "2번째는 c\n",
      "3번째는 d\n"
     ]
    }
   ],
   "source": [
    "list = ['a', 'b', 'c', 'd']\n",
    "for i in range(len(list)):\n",
    "    print(\"{}번째는 {}\".format(i, list[i]))\n",
    "\n",
    "for i, value in enumerate(list): # enumerate() 함수는 인덱스와 값을 함께 반환\n",
    "    print(\"{}번째는 {}\".format(i, value))\n",
    "\n"
   ]
  },
  {
   "cell_type": "code",
   "execution_count": null,
   "id": "98cf85f7",
   "metadata": {},
   "outputs": [
    {
     "name": "stdout",
     "output_type": "stream",
     "text": [
      "[0, 2, 4, 6, 8, 10]\n",
      "[1, 3, 5, 7, 9]\n",
      "[0, 2, 4, 6, 8, 10, 1, 3, 5, 7, 9]\n",
      "[0, 2, 4, 6, 8, 10, 0, 2, 4, 6, 8, 10]\n",
      "[0, 2, 4]\n",
      "[0, 2, 4, 6, 8, 10]\n"
     ]
    }
   ],
   "source": [
    "a = list(range(0, 11, 2))\n",
    "b = list(range(1, 11, 2))\n",
    "print(a)\n",
    "print(b)\n",
    "print(a+b)\n",
    "# print(a-b) ## 리스트끼리 뺄셈은 안 됨\n",
    "print(a*2)\n",
    "print(a[0:3])\n",
    "c = [x for x in a if x not in b]\n",
    "print(c)"
   ]
  }
 ],
 "metadata": {
  "kernelspec": {
   "display_name": "Python 3",
   "language": "python",
   "name": "python3"
  },
  "language_info": {
   "codemirror_mode": {
    "name": "ipython",
    "version": 3
   },
   "file_extension": ".py",
   "mimetype": "text/x-python",
   "name": "python",
   "nbconvert_exporter": "python",
   "pygments_lexer": "ipython3",
   "version": "3.9.13"
  }
 },
 "nbformat": 4,
 "nbformat_minor": 5
}
