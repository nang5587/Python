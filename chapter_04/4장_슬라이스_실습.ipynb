{
 "cells": [
  {
   "cell_type": "markdown",
   "id": "c449703c",
   "metadata": {},
   "source": [
    "예제 1: 처음 5개 요소 추출"
   ]
  },
  {
   "cell_type": "code",
   "execution_count": 15,
   "id": "c2ffe6f5",
   "metadata": {},
   "outputs": [
    {
     "name": "stdout",
     "output_type": "stream",
     "text": [
      "[10, 9, 8, 7, 6, 5, 4, 3, 2, 1, 0]\n",
      "0\n",
      "1\n",
      "2\n"
     ]
    }
   ],
   "source": [
    "numbers=list(range(0,11))\n",
    "print(numbers[::-1])\n",
    "for num in numbers[:3]:\n",
    "    print(num)\n"
   ]
  },
  {
   "cell_type": "code",
   "execution_count": 16,
   "id": "300cc6e5",
   "metadata": {},
   "outputs": [
    {
     "name": "stdout",
     "output_type": "stream",
     "text": [
      "[0, 1, 2, 3, 4, 5, 6, 7, 8, 9, 10]\n",
      "[100, 1, 2, 3, 4, 5, 6, 7, 8, 9, 10]\n"
     ]
    }
   ],
   "source": [
    "new_numbers = numbers[:] #복사본\n",
    "new_numbers[0] = 100 #원본은 안 바뀜\n",
    "print(numbers)\n",
    "print(new_numbers)"
   ]
  },
  {
   "cell_type": "code",
   "execution_count": null,
   "id": "b25f47ba",
   "metadata": {},
   "outputs": [
    {
     "name": "stdout",
     "output_type": "stream",
     "text": [
      "[200, 1, 2, 3, 4, 5, 6, 7, 8, 9, 10]\n",
      "[200, 1, 2, 3, 4, 5, 6, 7, 8, 9, 10]\n"
     ]
    }
   ],
   "source": [
    "second_numbers = numbers #가리키는 곳이 같음\n",
    "second_numbers[0] = 200\n",
    "print(numbers)\n",
    "print(second_numbers)"
   ]
  },
  {
   "cell_type": "markdown",
   "id": "4af3ab7f",
   "metadata": {},
   "source": [
    " 예제 2: 마지막 3개 요소 추출"
   ]
  },
  {
   "cell_type": "code",
   "execution_count": 2,
   "id": "295a8407",
   "metadata": {},
   "outputs": [
    {
     "name": "stdout",
     "output_type": "stream",
     "text": [
      "[8, 9, 10]\n"
     ]
    }
   ],
   "source": [
    "print(numbers[-3:])  # [8, 9, 10]\n"
   ]
  },
  {
   "cell_type": "markdown",
   "id": "ae718054",
   "metadata": {},
   "source": [
    "예제 3: 짝수 인덱스 요소만 추출"
   ]
  },
  {
   "cell_type": "code",
   "execution_count": 18,
   "id": "1e9f02df",
   "metadata": {},
   "outputs": [
    {
     "name": "stdout",
     "output_type": "stream",
     "text": [
      "[10, 9, 8, 7, 6, 5, 4, 3, 2, 1, 0]\n"
     ]
    }
   ],
   "source": [
    "# 스텝이 2\n",
    "print(numbers[::-1])  # [1, 3, 5, 7, 9]\n"
   ]
  },
  {
   "cell_type": "markdown",
   "id": "f7ffc3da",
   "metadata": {},
   "source": [
    "예제 4: 리스트를 반으로 나누기"
   ]
  },
  {
   "cell_type": "code",
   "execution_count": 19,
   "id": "0cc008df",
   "metadata": {},
   "outputs": [
    {
     "name": "stdout",
     "output_type": "stream",
     "text": [
      "왼쪽: [0, 1, 2, 3, 4]\n",
      "오른쪽: [5, 6, 7, 8, 9, 10]\n"
     ]
    }
   ],
   "source": [
    "mid = len(numbers) // 2\n",
    "left = numbers[:mid]\n",
    "right = numbers[mid:]\n",
    "print(\"왼쪽:\", left)\n",
    "print(\"오른쪽:\", right)\n"
   ]
  },
  {
   "cell_type": "markdown",
   "id": "207afdbc",
   "metadata": {},
   "source": [
    "예제 5: 리스트를 거꾸로 뒤집기 (역순)"
   ]
  },
  {
   "cell_type": "code",
   "execution_count": 20,
   "id": "9503c1d9",
   "metadata": {},
   "outputs": [
    {
     "name": "stdout",
     "output_type": "stream",
     "text": [
      "[10, 9, 8, 7, 6, 5, 4, 3, 2, 1, 0]\n"
     ]
    }
   ],
   "source": [
    "print(numbers[::-1])  # [10, 9, ..., 1]\n"
   ]
  },
  {
   "cell_type": "markdown",
   "id": "5d82cc3b",
   "metadata": {},
   "source": [
    "예제 9: 슬라이스로 전체 복사 (얕은 복사)"
   ]
  },
  {
   "cell_type": "code",
   "execution_count": null,
   "id": "9da61fc4",
   "metadata": {},
   "outputs": [
    {
     "name": "stdout",
     "output_type": "stream",
     "text": [
      "[0, 1, 2, 3, 4, 5, 6, 7, 8, 9, 10]\n",
      "False\n",
      "True\n"
     ]
    }
   ],
   "source": [
    "copy = numbers[:] #deep copy\n",
    "print(copy)\n",
    "print(copy is numbers)  # False (다른 객체)\n",
    "a = numbers #shallow copy\n",
    "print(a is numbers)\n"
   ]
  }
 ],
 "metadata": {
  "kernelspec": {
   "display_name": "Python 3",
   "language": "python",
   "name": "python3"
  },
  "language_info": {
   "codemirror_mode": {
    "name": "ipython",
    "version": 3
   },
   "file_extension": ".py",
   "mimetype": "text/x-python",
   "name": "python",
   "nbconvert_exporter": "python",
   "pygments_lexer": "ipython3",
   "version": "3.9.13"
  }
 },
 "nbformat": 4,
 "nbformat_minor": 5
}
