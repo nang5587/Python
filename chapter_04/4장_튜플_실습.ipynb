{
 "cells": [
  {
   "cell_type": "markdown",
   "id": "c3eb6be7",
   "metadata": {},
   "source": [
    ".ipynb = IPython Notebook을 줄인말\n",
    "jupyter: Julia, Python, R 언어에서 따온 이름 > 여러 언어를 지원하는 과학.데이터 중심의 노트북을 만들겠다는 의미\n",
    "Julia 언어: 최근 등장 언어: 과학계산, 수치해석, 인공지능, 고성능 컴퓨팅 용도로 파이썬처럼 사용하기가 쉬우면서 C처럼 빠른 언\n",
    "R 언어: 통계 분석과 데이터 시각화에 특화된 언어 -  통계 분석 언어로 시작\n"
   ]
  },
  {
   "cell_type": "markdown",
   "id": "98cc175f",
   "metadata": {},
   "source": [
    "튜플(tuple)\n",
    "a = (1,2,3)\n",
    "수정 불가능, 속도 빠름, 변경하지 않을 데이터 저장 "
   ]
  },
  {
   "cell_type": "markdown",
   "id": "a6e2aa63",
   "metadata": {},
   "source": [
    "함수 반환 값으로 튜플을 사용하는 이유:\n",
    "함수 리턴을 튜플로 하는 이유는 “반환값은 고정된 구조이며, 절대 바꾸지 말라”는 의도 전달과 \n",
    "안정성 확보 때문."
   ]
  },
  {
   "cell_type": "code",
   "execution_count": 2,
   "id": "f5e8cb23",
   "metadata": {},
   "outputs": [
    {
     "name": "stdout",
     "output_type": "stream",
     "text": [
      "(3, 1)\n",
      "4\n"
     ]
    }
   ],
   "source": [
    "def divide(a, b):\n",
    "    return a // b, a % b  # (몫, 나머지)\n",
    "\n",
    "result = divide(10, 3) # 튜플로 변경 불가\n",
    "#result[0] = 10\n",
    "print(result)  # 3 1\n",
    "a,b  = result #unpacking\n",
    "a += 1\n",
    "print(a)\n",
    "### 튜플은 항상 같이 사용되는 짝 개념이다 > 그래서 변경이 안되는 것\n"
   ]
  },
  {
   "cell_type": "code",
   "execution_count": 4,
   "id": "c993e757",
   "metadata": {},
   "outputs": [
    {
     "name": "stdout",
     "output_type": "stream",
     "text": [
      "(11, 22, 33)\n"
     ]
    }
   ],
   "source": [
    "a,b,c = 1,2,3 #우측은 tuple이고 unpacking되어 좌변에 할당\n",
    "t = 11,22,33 #파이썬에서 괄호 없이 ,로 나열하면 그 자체가 튜플이다\n",
    "print(t)"
   ]
  },
  {
   "cell_type": "markdown",
   "id": "a2d0f65b",
   "metadata": {},
   "source": [
    "enumerate가 튜플을 반환하는 이유?\n",
    "답: 인덱스와 값을 한 쌍으로 묶기 위해\n",
    "### enumerate()는 리스트나 이터러블을 반복할 때,\n",
    "### 인덱스와 값을 함께 얻고 싶을 때 쓰는 함수.\n",
    "enumerate()는 [(0, 'apple'), (1, 'banana'), (2, 'cherry')] 같은 구조를 생성함\n",
    "\n",
    "여기서 (인덱스, 값)이라는 고정된 쌍을 표현하기에 튜플이 딱 적절함"
   ]
  },
  {
   "cell_type": "code",
   "execution_count": 5,
   "id": "9b7ab3d1",
   "metadata": {},
   "outputs": [
    {
     "name": "stdout",
     "output_type": "stream",
     "text": [
      "0 apple\n",
      "1 banana\n",
      "2 cherry\n"
     ]
    }
   ],
   "source": [
    "fruits = ['apple', 'banana', 'cherry']\n",
    "for i, fruit in enumerate(fruits):\n",
    "    print(i, fruit)\n"
   ]
  },
  {
   "cell_type": "code",
   "execution_count": null,
   "id": "899e3287",
   "metadata": {},
   "outputs": [
    {
     "data": {
      "text/plain": [
       "[(0, 'apple'), (1, 'banana'), (2, 'cherry')]"
      ]
     },
     "execution_count": 6,
     "metadata": {},
     "output_type": "execute_result"
    }
   ],
   "source": [
    "list(enumerate(fruits)) #tuple이 담긴 리스트\n",
    "# [(0, 'apple'), (1, 'banana'), (2, 'cherry')]\n"
   ]
  },
  {
   "cell_type": "markdown",
   "id": "6d65789f",
   "metadata": {},
   "source": [
    "불변성 (튜플은 변경할 수 없음)\n",
    "enumerate()는 단순히 데이터를 전달하는 역할이므로,\n",
    "\n",
    "그 결과값(인덱스와 값 쌍)이 변경되지 않도록 튜플로 제공\n",
    "\n",
    "불변성이 있으면:\n",
    "\n",
    "실수로 수정하는 것 방지\n",
    "\n",
    "딕셔너리의 키 등으로 사용 가능"
   ]
  },
  {
   "cell_type": "markdown",
   "id": "c2c34047",
   "metadata": {},
   "source": [
    "zip() 함수가 왜 tuple을 return하는지 알아야 한다"
   ]
  },
  {
   "cell_type": "code",
   "execution_count": null,
   "id": "6a2faf6a",
   "metadata": {},
   "outputs": [
    {
     "name": "stdout",
     "output_type": "stream",
     "text": [
      "[('Alice', 85), ('Bob', 92), ('Charlie', 78)]\n"
     ]
    }
   ],
   "source": [
    "names = ['Alice', 'Bob', 'Charlie']\n",
    "scores = [85, 92, 78]\n",
    "\n",
    "z = zip(names, scores) # zip()은 iterable한 객체를 묶어주는 함수, tuple로 묶어줌\n",
    "print(list(z))  # [('Alice', 85), ('Bob', 92), ('Charlie', 78)]\n"
   ]
  },
  {
   "cell_type": "markdown",
   "id": "51e8a60b",
   "metadata": {},
   "source": [
    "고정된 쌍:\tzip은 각 요소끼리 묶는 고정된 구조를 만든다 → 튜플에 딱 맞음\n",
    "언패킹 편함:\tfor name, score in zip(...) 형태로 사용 가능\n",
    "불변성: \t묶인 쌍이 수정되면 의미가 깨짐 → 튜플로 안전하게 전달\n",
    "의미 전달:\t\"이 둘은 고정된 쌍이다\"라는 의도를 명확히 표현"
   ]
  }
 ],
 "metadata": {
  "kernelspec": {
   "display_name": "Python 3",
   "language": "python",
   "name": "python3"
  },
  "language_info": {
   "codemirror_mode": {
    "name": "ipython",
    "version": 3
   },
   "file_extension": ".py",
   "mimetype": "text/x-python",
   "name": "python",
   "nbconvert_exporter": "python",
   "pygments_lexer": "ipython3",
   "version": "3.9.13"
  }
 },
 "nbformat": 4,
 "nbformat_minor": 5
}
