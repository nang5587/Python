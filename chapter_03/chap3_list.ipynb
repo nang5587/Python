{
 "cells": [
  {
   "cell_type": "code",
   "execution_count": null,
   "id": "746930c1",
   "metadata": {},
   "outputs": [
    {
     "name": "stdout",
     "output_type": "stream",
     "text": [
      "['trek', 'cannondale', 'redline', 'specialized']\n",
      "trek\n",
      "Cannondale\n",
      "specialized\n",
      "redline\n",
      "mtb\n",
      "['MTB', 'cannondale', 'redline', 'specialized', 'ducati']\n",
      "['honda', 'MTB', 'cannondale', 'redline', 'specialized', 'ducati']\n",
      "['cannondale', 'redline', 'specialized', 'ducati']\n",
      "['cannondale', 'redline', 'specialized']\n",
      "['redline', 'specialized']\n",
      "cannondale\n",
      "['redline', 'specialized', 'kia', 'kia']\n",
      "['redline', 'specialized', 'kia']\n"
     ]
    }
   ],
   "source": [
    "bicycles = ['trek', 'cannondale', 'redline', 'specialized']\n",
    "print(bicycles)\n",
    "print(bicycles[0])\n",
    "print(bicycles[1].title())\n",
    "print(bicycles[-1])\n",
    "print(bicycles[-2])\n",
    "\n",
    "bicycles[0] = 'MTB' # 리스트의 각 원소도 참조변수\n",
    "print(bicycles[0].lower())\n",
    "\n",
    "#insert() 메서드로 리스트에 원소 추가\n",
    "bicycles.append('ducati')\n",
    "print(bicycles)\n",
    "bicycles.insert(0, 'honda')\n",
    "print(bicycles)\n",
    "\n",
    "#del 문으로 리스트의 원소 삭제\n",
    "# bicycles.delete(0) 지원 안 됨 ## del bicycles[0]\n",
    "del bicycles[0:2] # del은 슬라이스 지원\n",
    "print(bicycles)\n",
    "\n",
    "#pop() 메서드로 리스트의 원소 삭제\n",
    "bicycles.pop() # 마지막 원소 삭제\n",
    "print(bicycles)\n",
    "bike = bicycles.pop(0) # 첫 번째 원소 삭제\n",
    "print(bicycles)\n",
    "print(bike)\n",
    "# bicycles.push('ducati') # 지원 안 됨\n",
    "bicycles.append('kia') # 마지막 위치에 원소 추가\n",
    "bicycles.append('kia')\n",
    "print(bicycles)\n",
    "\n",
    "#remove() 메서드로 리스트의 원소 삭제\n",
    "bicycles.remove('kia') # 원소 삭제 ## 삭제할 원소가 리스트에 두 개 이상일 경우 첫 번째 원소만 삭제됨 ### 루프로 제거해야 함\n",
    "print(bicycles)\n",
    "\n",
    "#sort() 메서드로 리스트 정렬\n",
    "bicycles.sort() # 오름차순 정렬"
   ]
  },
  {
   "cell_type": "code",
   "execution_count": 31,
   "id": "bf4f8f2a",
   "metadata": {},
   "outputs": [
    {
     "name": "stdout",
     "output_type": "stream",
     "text": [
      "['bmw', 'audi', 'toyota', 'subaru']\n",
      "['audi', 'bmw', 'subaru', 'toyota']\n",
      "['toyota', 'subaru', 'bmw', 'audi']\n",
      "['audi', 'bmw', 'subaru', 'toyota']\n",
      "4\n",
      "toyota\n"
     ]
    }
   ],
   "source": [
    "cars = ['bmw', 'audi', 'toyota', 'subaru']\n",
    "print(cars)\n",
    "\n",
    "#sort() 메서드로 리스트 정렬\n",
    "cars.sort() # 오름차순\n",
    "print(cars)\n",
    "cars.sort(reverse=True) # 내림차순\n",
    "print(cars)\n",
    "cars.reverse() # 역순으로 정렬\n",
    "print(cars)\n",
    "\n",
    "# len() 리스트의 원소 개수\n",
    "print(len(cars))\n",
    "\n",
    "print(cars[-1])"
   ]
  }
 ],
 "metadata": {
  "kernelspec": {
   "display_name": "Python 3",
   "language": "python",
   "name": "python3"
  },
  "language_info": {
   "codemirror_mode": {
    "name": "ipython",
    "version": 3
   },
   "file_extension": ".py",
   "mimetype": "text/x-python",
   "name": "python",
   "nbconvert_exporter": "python",
   "pygments_lexer": "ipython3",
   "version": "3.9.13"
  }
 },
 "nbformat": 4,
 "nbformat_minor": 5
}
