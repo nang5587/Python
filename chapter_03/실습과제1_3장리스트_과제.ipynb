{
 "cells": [
  {
   "cell_type": "code",
   "execution_count": 2,
   "metadata": {},
   "outputs": [
    {
     "name": "stdout",
     "output_type": "stream",
     "text": [
      "tayo <- 첫 번째, mini <- 마지막\n",
      "\n",
      "정렬 전 자동차 리스트: ['tayo', 'logy', 'lany', 'mini']\n",
      "\n",
      "정렬 후 자동차 리스트: ['lany', 'logy', 'mini', 'tayo']\n",
      "정렬된 자동차 리스트:\n",
      "0 번째 자동차 : lany\n",
      "1 번째 자동차 : logy\n",
      "2 번째 자동차 : mini\n",
      "3 번째 자동차 : tayo\n"
     ]
    }
   ],
   "source": [
    "# 실습과제1_3,4장_리스트\n",
    "# 빈 cars 리스트 생성\n",
    "cars = []\n",
    "\n",
    "# 자동차 리스트에 자동차 이름 추가 (append, insert 사용)\n",
    "cars.append(\"tayo\")\n",
    "cars.append(\"logy\")\n",
    "cars.append(\"mini\")\n",
    "# 세 번째 위치에 삽입\n",
    "cars.insert(2, \"lany\")\n",
    "\n",
    "# f-문자열과 리스트 인덱스를 사용하여 첫 번째와 마지막 요소 출력\n",
    "print(f\"{cars[0]} <- 첫 번째, {cars[-1]} <- 마지막\")\n",
    "\n",
    "# 정렬하기 전의 리스트 출력\n",
    "print(f\"\\n정렬 전 자동차 리스트: {cars}\")\n",
    "\n",
    "# 리스트 정렬\n",
    "cars.sort()\n",
    "\n",
    "# 정렬 후의 리스트 출력\n",
    "print(f\"\\n정렬 후 자동차 리스트: {cars}\")\n",
    "\n",
    "# 정렬된 리스트를 for loop로 각 행에 하나씩 출력\n",
    "print(\"정렬된 자동차 리스트:\")\n",
    "for i in range(len(cars)):\n",
    "    print(f\"{i} 번째 자동차 : {cars[i]}\")"
   ]
  }
 ],
 "metadata": {
  "kernelspec": {
   "display_name": "Python 3",
   "language": "python",
   "name": "python3"
  },
  "language_info": {
   "codemirror_mode": {
    "name": "ipython",
    "version": 3
   },
   "file_extension": ".py",
   "mimetype": "text/x-python",
   "name": "python",
   "nbconvert_exporter": "python",
   "pygments_lexer": "ipython3",
   "version": "3.9.13"
  }
 },
 "nbformat": 4,
 "nbformat_minor": 2
}
