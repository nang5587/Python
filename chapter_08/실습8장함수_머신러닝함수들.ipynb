{
 "cells": [
  {
   "cell_type": "code",
   "execution_count": 12,
   "metadata": {},
   "outputs": [
    {
     "name": "stdout",
     "output_type": "stream",
     "text": [
      "[[-0.23895666057739207, 0.03721615010433044, -0.18570333209846934, 0.627907590035669], [-0.8685831151635237, 0.4320111584342403, 0.6074604262532037, 0.568548505509398], [-0.3995617667720952, -0.5396638300472343, 0.7444225953539159, -0.7477374061382744]]\n"
     ]
    }
   ],
   "source": [
    "import random\n",
    "\n",
    "x = [[random.uniform(-1, 1) for _ in range(4)] for _ in range(3)]\n",
    "print(x)\n"
   ]
  },
  {
   "cell_type": "code",
   "execution_count": 2,
   "metadata": {},
   "outputs": [
    {
     "ename": "NameError",
     "evalue": "name 'x' is not defined",
     "output_type": "error",
     "traceback": [
      "\u001b[1;31m---------------------------------------------------------------------------\u001b[0m",
      "\u001b[1;31mNameError\u001b[0m                                 Traceback (most recent call last)",
      "Cell \u001b[1;32mIn[2], line 7\u001b[0m\n\u001b[0;32m      5\u001b[0m     \u001b[38;5;28;01mreturn\u001b[39;00m x\n\u001b[0;32m      6\u001b[0m \u001b[38;5;66;03m#x_new = naive_relu(x[:])#원본이 변경됨\u001b[39;00m\n\u001b[1;32m----> 7\u001b[0m x_new \u001b[38;5;241m=\u001b[39m naive_relu([row[:] \u001b[38;5;28;01mfor\u001b[39;00m row \u001b[38;5;129;01min\u001b[39;00m \u001b[43mx\u001b[49m])  \u001b[38;5;66;03m# 리스트 컴프리헨션으로 내부 리스트까지 복사\u001b[39;00m\n\u001b[0;32m      9\u001b[0m \u001b[38;5;28mprint\u001b[39m(x)\n\u001b[0;32m     10\u001b[0m \u001b[38;5;28mprint\u001b[39m(x_new)\n",
      "\u001b[1;31mNameError\u001b[0m: name 'x' is not defined"
     ]
    }
   ],
   "source": [
    "def naive_relu(x):\n",
    "    for i in range(3):\n",
    "        for j in range(4):\n",
    "            x[i][j] = max(x[i][j],0) #음수를 버리는 함수\n",
    "    return x\n",
    "#x_new = naive_relu(x[:])#원본이 변경됨\n",
    "x_new = naive_relu([row[:] for row in x])  # 리스트 컴프리헨션으로 내부 리스트까지 복사\n",
    "\n",
    "print(x)\n",
    "print(x_new)\n",
    "#출력> x, x_new"
   ]
  },
  {
   "cell_type": "code",
   "execution_count": 3,
   "metadata": {},
   "outputs": [
    {
     "name": "stdout",
     "output_type": "stream",
     "text": [
      "[0.00012339457598623172, 0.0003353501304664781, 0.0009110511944006454, 0.0024726231566347743, 0.0066928509242848554, 0.01798620996209156, 0.04742587317756678, 0.11920292202211755, 0.2689414213699951, 0.5, 0.7310585786300049, 0.8807970779778823, 0.9525741268224334, 0.9820137900379085, 0.9933071490757153, 0.9975273768433653, 0.9990889488055994, 0.9996646498695336, 0.9998766054240137]\n"
     ]
    }
   ],
   "source": [
    "import math\n",
    "\n",
    "def sigmoid(x):\n",
    "    \"\"\"시그모이드 함수를 계산합니다.\"\"\"\n",
    "    return 1 / (1 + math.exp(-x))\n",
    "\n",
    "# 예시 사용\n",
    "x_values = [-9,-8,-7,-6,-5,-4,-3,-2, -1, 0, 1, 2,3,4,5,6,7,8,9]\n",
    "sigmoid_values = [sigmoid(x) for x in x_values]\n",
    "\n",
    "print(sigmoid_values) "
   ]
  },
  {
   "cell_type": "code",
   "execution_count": 17,
   "metadata": {},
   "outputs": [
    {
     "name": "stdout",
     "output_type": "stream",
     "text": [
      "[-9, -8, -7, -6, -5, -4, -3, -2, -1, 0, 1, 2, 3, 4, 5, 6, 7, 8, 9]\n",
      "[0, 0, 0, 0, 0, 0, 0, 0, 0, 0, 1, 2, 3, 4, 5, 6, 7, 8, 9]\n"
     ]
    }
   ],
   "source": [
    "def relu(x):\n",
    "    \"\"\"ReLU 함수를 계산합니다.\"\"\"\n",
    "    return max(0, x)\n",
    "\n",
    "# -9에서 +9까지의 값에 대해 ReLU 함수를 적용\n",
    "values = range(-9, 10)  # -9부터 9까지의 정수 생성\n",
    "relu_values = [relu(x) for x in values]\n",
    "print([n for n in values])\n",
    "print(relu_values) "
   ]
  },
  {
   "cell_type": "code",
   "execution_count": 5,
   "metadata": {},
   "outputs": [
    {
     "name": "stdout",
     "output_type": "stream",
     "text": [
      "Iteration 1: x = 8.6, f(x) = 36.36\n",
      "Iteration 2: x = 7.4799999999999995, f(x) = 25.070399999999996\n",
      "Iteration 3: x = 6.584, f(x) = 17.845056\n",
      "Iteration 4: x = 5.8671999999999995, f(x) = 13.220835839999998\n",
      "Iteration 5: x = 5.29376, f(x) = 10.2613349376\n",
      "Iteration 6: x = 4.835008, f(x) = 8.367254360064\n",
      "Iteration 7: x = 4.4680064, f(x) = 7.155042790440961\n",
      "Iteration 8: x = 4.17440512, f(x) = 6.379227385882215\n",
      "Iteration 9: x = 3.9395240960000004, f(x) = 5.882705526964618\n",
      "Iteration 10: x = 3.7516192768000005, f(x) = 5.564931537257356\n",
      "Iteration 11: x = 3.6012954214400006, f(x) = 5.361556183844708\n",
      "Iteration 12: x = 3.4810363371520006, f(x) = 5.231395957660613\n",
      "Iteration 13: x = 3.3848290697216004, f(x) = 5.148093412902792\n",
      "Iteration 14: x = 3.3078632557772805, f(x) = 5.0947797842577875\n",
      "Iteration 15: x = 3.2462906046218243, f(x) = 5.060659061924984\n",
      "Iteration 16: x = 3.1970324836974595, f(x) = 5.0388217996319895\n",
      "Iteration 17: x = 3.1576259869579677, f(x) = 5.0248459517644735\n",
      "Iteration 18: x = 3.126100789566374, f(x) = 5.015901409129263\n",
      "Iteration 19: x = 3.1008806316530992, f(x) = 5.010176901842728\n",
      "Iteration 20: x = 3.0807045053224793, f(x) = 5.0065132171793465\n",
      "Iteration 21: x = 3.0645636042579834, f(x) = 5.004168458994782\n",
      "Iteration 22: x = 3.0516508834063867, f(x) = 5.00266781375666\n",
      "Iteration 23: x = 3.0413207067251093, f(x) = 5.001707400804262\n",
      "Iteration 24: x = 3.0330565653800874, f(x) = 5.001092736514728\n",
      "Iteration 25: x = 3.02644525230407, f(x) = 5.000699351369426\n",
      "Iteration 26: x = 3.021156201843256, f(x) = 5.000447584876433\n",
      "Iteration 27: x = 3.0169249614746048, f(x) = 5.000286454320917\n",
      "Iteration 28: x = 3.013539969179684, f(x) = 5.0001833307653865\n",
      "Iteration 29: x = 3.010831975343747, f(x) = 5.0001173316898475\n",
      "Iteration 30: x = 3.0086655802749975, f(x) = 5.000075092281502\n",
      "Iteration 31: x = 3.006932464219998, f(x) = 5.000048059060162\n",
      "Iteration 32: x = 3.0055459713759984, f(x) = 5.000030757798504\n",
      "Iteration 33: x = 3.004436777100799, f(x) = 5.0000196849910425\n",
      "Iteration 34: x = 3.0035494216806393, f(x) = 5.000012598394267\n",
      "Iteration 35: x = 3.0028395373445114, f(x) = 5.000008062972331\n",
      "Iteration 36: x = 3.002271629875609, f(x) = 5.000005160302292\n",
      "Iteration 37: x = 3.001817303900487, f(x) = 5.000003302593467\n",
      "Iteration 38: x = 3.0014538431203897, f(x) = 5.000002113659819\n",
      "Iteration 39: x = 3.001163074496312, f(x) = 5.000001352742284\n",
      "Iteration 40: x = 3.0009304595970496, f(x) = 5.000000865755061\n",
      "최솟값에 도달한 x: 3.0009304595970496, f(x) = 5.000000865755061\n"
     ]
    }
   ],
   "source": [
    "import numpy as np\n",
    "\n",
    "def function(x):\n",
    "    \"\"\"최적화할 함수 (예: f(x) = (x-3)^2 + 5)\"\"\"\n",
    "    return (x-3) ** 2+5\n",
    "\n",
    "def gradient(x):\n",
    "    \"\"\"함수의 기울기 (예: f'(x) = 2x-6)\"\"\"\n",
    "    return 2 * x -6\n",
    "\n",
    "def gradient_descent(starting_point, learning_rate, num_iterations):\n",
    "    \"\"\"경사하강법을 사용하여 최솟값을 찾습니다.\"\"\"\n",
    "    x = starting_point\n",
    "    for i in range(num_iterations):\n",
    "        grad = gradient(x)  # 현재 위치에서 기울기 계산\n",
    "        x -= learning_rate * grad  # 기울기에 따라 이동\n",
    "        print(f\"Iteration {i + 1}: x = {x}, f(x) = {function(x)}\")\n",
    "    return x\n",
    "\n",
    "# 초기 설정\n",
    "starting_point = 10  # 시작점\n",
    "learning_rate = 0.1  # 학습률\n",
    "num_iterations = 40  # 반복 횟수\n",
    "\n",
    "# 경사하강법 실행\n",
    "minimum = gradient_descent(starting_point, learning_rate, num_iterations)\n",
    "print(f\"최솟값에 도달한 x: {minimum}, f(x) = {function(minimum)}\")"
   ]
  },
  {
   "cell_type": "code",
   "execution_count": null,
   "metadata": {},
   "outputs": [
    {
     "data": {
      "image/png": "[encoded data removed]",
      "text/plain": [
       "<Figure size 800x600 with 1 Axes>"
      ]
     },
     "metadata": {},
     "output_type": "display_data"
    }
   ],
   "source": [
    "import matplotlib.pyplot as plt\n",
    "import matplotlib.font_manager as fm\n",
    "\n",
    "# 한글 폰트 경로 설정 (예: 맑은 고딕)\n",
    "font_path = \"C:/Windows/Fonts/malgun.ttf\"  # Windows의 경우\n",
    "# font_path = \"/usr/share/fonts/truetype/nanum/NanumGothic.ttf\"  # Linux의 경우\n",
    "\n",
    "# 폰트 설정\n",
    "font_prop = fm.FontProperties(fname=font_path, size=12)\n",
    "plt.rc('font', family=font_prop.get_name())\n",
    "\n",
    "# 예제 데이터 시각화\n",
    "plt.figure(figsize=(8, 6))\n",
    "plt.plot(sigmoid_values, label='데이터 예시')\n",
    "plt.title('한글 제목 예시')\n",
    "plt.xlabel('X축 레이블')\n",
    "plt.ylabel('Y축 레이블')\n",
    "plt.legend()\n",
    "plt.show()\n",
    "\n",
    "#matplotlib => 그래프 그려주는 라이브러리"
   ]
  },
  {
   "cell_type": "code",
   "execution_count": 8,
   "metadata": {},
   "outputs": [
    {
     "name": "stdout",
     "output_type": "stream",
     "text": [
      "최종 기울기: 2.11, 최종 y절편: 1.39\n",
      "최종 손실: 0.09\n"
     ]
    },
    {
     "data": {
      "image/png": "[encoded data removed]",
      "text/plain": [
       "<Figure size 640x480 with 1 Axes>"
      ]
     },
     "metadata": {},
     "output_type": "display_data"
    }
   ],
   "source": [
    "import numpy as np\n",
    "import matplotlib.pyplot as plt\n",
    "\n",
    "# 실제 데이터 생성\n",
    "# y = 2x + 1 (여기서 2는 기울기, 1은 y절편)\n",
    "np.random.seed(0)  # 랜덤 시드 고정\n",
    "X = np.array([1, 2, 3, 4, 5])\n",
    "y = 2 * X + 1 + np.random.randn(5) * 0.5  # 노이즈 추가\n",
    "\n",
    "# 선형 회귀 모델\n",
    "def predict(X, slope, intercept):\n",
    "    \"\"\"예측 함수\"\"\"\n",
    "    return slope * X + intercept\n",
    "\n",
    "def mean_squared_error(y_true, y_pred):\n",
    "    \"\"\"평균 제곱 오차 계산\"\"\"\n",
    "    return np.mean((y_true - y_pred) ** 2)\n",
    "\n",
    "# 모델 파라미터 초기화\n",
    "slope = 0.0\n",
    "intercept = 0.0\n",
    "\n",
    "# 학습 과정\n",
    "learning_rate = 0.01\n",
    "num_iterations = 1000\n",
    "\n",
    "for _ in range(num_iterations):\n",
    "    y_pred = predict(X, slope, intercept)\n",
    "    loss = mean_squared_error(y, y_pred)\n",
    "\n",
    "    # 기울기와 y절편에 대한 손실 함수의 미분\n",
    "    slope_gradient = -2 * np.mean(X * (y - y_pred))\n",
    "    intercept_gradient = -2 * np.mean(y - y_pred)\n",
    "\n",
    "    # 파라미터 업데이트\n",
    "    slope -= learning_rate * slope_gradient\n",
    "    intercept -= learning_rate * intercept_gradient\n",
    "\n",
    "# 최종 파라미터\n",
    "print(f\"최종 기울기: {slope:.2f}, 최종 y절편: {intercept:.2f}\")\n",
    "print(f\"최종 손실: {loss:.2f}\")\n",
    "\n",
    "# 결과 시각화\n",
    "plt.scatter(X, y, color='blue', label='실제 데이터')\n",
    "plt.plot(X, predict(X, slope, intercept), color='red', label='예측 직선')\n",
    "plt.xlabel('X')\n",
    "plt.ylabel('y')\n",
    "plt.title('선형 회귀 예제')\n",
    "plt.legend()\n",
    "plt.show()"
   ]
  },
  {
   "cell_type": "code",
   "execution_count": null,
   "metadata": {},
   "outputs": [],
   "source": [
    "#2차원 행렬을 난수로 초기화 > 덧셈 함수 > 전치 행렬 함수 > 곱셈함수 구현 "
   ]
  }
 ],
 "metadata": {
  "kernelspec": {
   "display_name": "Python 3",
   "language": "python",
   "name": "python3"
  },
  "language_info": {
   "codemirror_mode": {
    "name": "ipython",
    "version": 3
   },
   "file_extension": ".py",
   "mimetype": "text/x-python",
   "name": "python",
   "nbconvert_exporter": "python",
   "pygments_lexer": "ipython3",
   "version": "3.9.13"
  }
 },
 "nbformat": 4,
 "nbformat_minor": 2
}
