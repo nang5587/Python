{
 "cells": [
  {
   "cell_type": "code",
   "execution_count": null,
   "id": "62e3e295",
   "metadata": {},
   "outputs": [],
   "source": [
    "\n",
    "#아래는 파이썬 세트를 사용하여 로또 복권 6개 번호와 보너스 번호를 100장 발행하여 세트에 저장하는 코드입니다.\n",
    "\n",
    "import random\n",
    "\n",
    "# 두 세트 생성\n",
    "set1 = {1, 2, 3, 4, 5}\n",
    "set2 = {3, 2, 1, 5, 4}\n",
    "\n",
    "# 두 세트가 동일한지 확인 (모든 요소가 같은지)\n",
    "print(\"set1과 set2가 동일한지:\", set1 == set2)\n",
    "\n",
    "# 로또 복권 번호 생성 함수\n",
    "def generate_lotto_numbers():\n",
    "    # 1부터 45까지의 숫자 리스트 생성\n",
    "\n",
    "    \n",
    "    # 무작위로 숫자 6개 선택하여 세트로 변환 (중복 없음)\n",
    "\n",
    "    \n",
    "    # 무작위로 숫자 1개 선택하여 보너스 번호 생성\n",
    "\n"
   ]
  },
  {
   "cell_type": "code",
   "execution_count": null,
   "id": "69a941e2",
   "metadata": {},
   "outputs": [],
   "source": [
    "# 당첨 번호 생성\n",
    "winning_numbers, winning_bonus_number = generate_lotto_numbers()\n",
    "print(\"당첨 번호:\", winning_numbers, \"보너스 번호:\", winning_bonus_number)\n",
    "\n",
    "# 100장의 로또 번호 생성하여 당첨 여부 판별\n",
    "for idx in range(1, 101):\n",
    "    lotto_numbers, lotto_bonus_number = generate_lotto_numbers()\n",
    "    \n",
    "    # 로또 번호와 보너스 번호가 당첨 번호와 일치하는지 확인\n",
    "    if lotto_numbers == winning_numbers and lotto_bonus_number == winning_bonus_number:\n",
    "        print(f\"{idx}번째 로또 복권: 1등 당첨!\")\n",
    "    elif lotto_numbers == winning_numbers:\n",
    "        print(f\"{idx}번째 로또 복권: 2등 당첨! (보너스 번호 불일치)\")\n",
    "    elif lotto_bonus_number == winning_bonus_number:\n",
    "        print(f\"{idx}번째 로또 복권: 3등 당첨! (5개 일치 + 보너스 번호 일치)\")\n",
    "    elif len(lotto_numbers.intersection(winning_numbers)) == 5:\n",
    "        print(f\"{idx}번째 로또 복권: 4등 당첨! (5개 일치)\")\n",
    "    elif len(lotto_numbers.intersection(winning_numbers)) == 4:\n",
    "        print(f\"{idx}번째 로또 복권: 5등 당첨! (4개 일치)\")\n",
    "    else:\n",
    "        print(f\"{idx}번째 로또 복권: 꽝\")"
   ]
  }
 ],
 "metadata": {
  "language_info": {
   "name": "python"
  }
 },
 "nbformat": 4,
 "nbformat_minor": 5
}
